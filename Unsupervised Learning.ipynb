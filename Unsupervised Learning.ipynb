{
 "cells": [
  {
   "cell_type": "markdown",
   "source": "# Unsupervised Learning\n#### BDA-2008 group\n#### Togzhan Baydish\n#### Aibolsyn Aibekqyzy\n#### Dias Ali\n\n",
   "metadata": {
    "cell_id": "49c7963b-5ecc-4a81-a1a0-0dbf29082f32",
    "deepnote_cell_height": 254,
    "deepnote_cell_type": "markdown"
   }
  },
  {
   "cell_type": "markdown",
   "source": "## Assignment 4\n### 1.Explore the dataset. Do the descriptive statistics. ",
   "metadata": {
    "cell_id": "00001-b5758fc5-bab8-40b1-bcf9-a5fc64a65bc9",
    "deepnote_cell_height": 118,
    "deepnote_cell_type": "markdown"
   }
  },
  {
   "cell_type": "code",
   "metadata": {
    "cell_id": "00002-7c14ece9-8e2b-4ab0-98ac-3c86e9480cae",
    "deepnote_to_be_reexecuted": false,
    "source_hash": "a927aba5",
    "execution_start": 1645112797437,
    "execution_millis": 40,
    "deepnote_cell_height": 171,
    "deepnote_cell_type": "code"
   },
   "source": "import pandas as pd\nimport matplotlib.pyplot as plt\nimport numpy as np\nimport seaborn as sns\nimport scipy as sc\n%matplotlib inline",
   "execution_count": 54,
   "outputs": []
  },
  {
   "cell_type": "code",
   "metadata": {
    "cell_id": "00003-cb0d2b0d-e0a2-4cb5-98e2-1f517c948a12",
    "deepnote_to_be_reexecuted": false,
    "source_hash": "ce356275",
    "execution_start": 1645112800969,
    "execution_millis": 317,
    "deepnote_cell_height": 135,
    "deepnote_cell_type": "code"
   },
   "source": "transactions = pd.read_csv('transactions.csv', sep = \";\")\ncodes = pd.read_csv('codes.csv', sep = \";\")\ntypes = pd.read_csv('types.csv', sep = \";\")\ntrain = pd.read_csv('train_set.csv', sep=\";\")",
   "execution_count": 55,
   "outputs": []
  },
  {
   "cell_type": "code",
   "metadata": {
    "cell_id": "00004-2bd08378-e367-4ad1-8642-c613e6cb9621",
    "deepnote_output_heights": [
     382.1875
    ],
    "deepnote_to_be_reexecuted": false,
    "source_hash": "795f0d7a",
    "execution_start": 1645112803818,
    "execution_millis": 155,
    "deepnote_cell_height": 583,
    "deepnote_cell_type": "code"
   },
   "source": "data = transactions.merge(codes,on='code',how='left')\ndata = data.merge(types,on='type',how='left')\ndata",
   "execution_count": 56,
   "outputs": [
    {
     "output_type": "execute_result",
     "execution_count": 56,
     "data": {
      "application/vnd.deepnote.dataframe.v3+json": {
       "column_count": 7,
       "row_count": 130039,
       "columns": [
        {
         "name": "client_id",
         "dtype": "int64"
        },
        {
         "name": "datetime",
         "dtype": "object"
        },
        {
         "name": "code",
         "dtype": "int64"
        },
        {
         "name": "type",
         "dtype": "int64"
        },
        {
         "name": "sum",
         "dtype": "float64"
        },
        {
         "name": "code_description",
         "dtype": "object"
        },
        {
         "name": "type_description",
         "dtype": "object"
        },
        {
         "name": "_deepnote_index_column",
         "dtype": "int64"
        }
       ],
       "rows": [
        {
         "client_id": 96372458,
         "datetime": "421 06:33:15",
         "code": 6011,
         "type": 2010,
         "sum": -561478.94,
         "code_description": "Финансовые институты — снятие наличности автоматически",
         "type_description": "Выдача наличных в АТМ",
         "_deepnote_index_column": 0
        },
        {
         "client_id": 24567813,
         "datetime": "377 17:20:40",
         "code": 6011,
         "type": 7010,
         "sum": 67377.47,
         "code_description": "Финансовые институты — снятие наличности автоматически",
         "type_description": "Взнос наличных через АТМ (в своем тер.банке)",
         "_deepnote_index_column": 1
        },
        {
         "client_id": 21717441,
         "datetime": "55 13:38:47",
         "code": 6011,
         "type": 2010,
         "sum": -44918.32,
         "code_description": "Финансовые институты — снятие наличности автоматически",
         "type_description": "Выдача наличных в АТМ",
         "_deepnote_index_column": 2
        },
        {
         "client_id": 14331004,
         "datetime": "263 12:57:08",
         "code": 6011,
         "type": 2010,
         "sum": -3368873.66,
         "code_description": "Финансовые институты — снятие наличности автоматически",
         "type_description": "Выдача наличных в АТМ",
         "_deepnote_index_column": 3
        },
        {
         "client_id": 85302434,
         "datetime": "151 10:34:12",
         "code": 4814,
         "type": 1030,
         "sum": -3368.87,
         "code_description": "Звонки с использованием телефонов, считывающих магнитную ленту",
         "type_description": "Оплата услуги. Банкоматы",
         "_deepnote_index_column": 4
        },
        {
         "client_id": 31421357,
         "datetime": "398 00:00:00",
         "code": 5411,
         "type": 1110,
         "sum": -1572.14,
         "code_description": "Бакалейные магазины, супермаркеты",
         "type_description": "Покупка. POS ",
         "_deepnote_index_column": 5
        },
        {
         "client_id": 84826852,
         "datetime": "423 15:27:55",
         "code": 6010,
         "type": 7070,
         "sum": 5654.99,
         "code_description": "Финансовые институты — снятие наличности вручную",
         "type_description": "Перевод на карту (с карты) через Мобильный банк (без взимания комиссии с отправителя)",
         "_deepnote_index_column": 6
        },
        {
         "client_id": 92322336,
         "datetime": "66 13:21:29",
         "code": 4814,
         "type": 1030,
         "sum": -4491.83,
         "code_description": "Звонки с использованием телефонов, считывающих магнитную ленту",
         "type_description": "Оплата услуги. Банкоматы",
         "_deepnote_index_column": 7
        },
        {
         "client_id": 91101111,
         "datetime": "346 11:06:20",
         "code": 4814,
         "type": 1030,
         "sum": -4491.83,
         "code_description": "Звонки с использованием телефонов, считывающих магнитную ленту",
         "type_description": "Оплата услуги. Банкоматы",
         "_deepnote_index_column": 8
        },
        {
         "client_id": 48933372,
         "datetime": "157 15:22:24",
         "code": 5921,
         "type": 1010,
         "sum": -7703.49,
         "code_description": "Магазины с продажей спиртных напитков на вынос (пиво, вино и ликер)",
         "type_description": "Покупка. POS ",
         "_deepnote_index_column": 9
        }
       ]
      },
      "text/plain": "        client_id      datetime  code  type         sum  \\\n0        96372458  421 06:33:15  6011  2010  -561478.94   \n1        24567813  377 17:20:40  6011  7010    67377.47   \n2        21717441   55 13:38:47  6011  2010   -44918.32   \n3        14331004  263 12:57:08  6011  2010 -3368873.66   \n4        85302434  151 10:34:12  4814  1030    -3368.87   \n...           ...           ...   ...   ...         ...   \n130034   15836839  147 11:50:53  5411  1010   -26344.59   \n130035   28369355  305 11:59:34  4829  2330   -24705.07   \n130036   40949707  398 21:13:58  5411  1110   -40353.72   \n130037    7174462  409 13:58:14  5411  1010   -25536.06   \n130038   92197764  319 00:00:00  5533  1110   -12127.95   \n\n                                         code_description  \\\n0       Финансовые институты — снятие наличности автом...   \n1       Финансовые институты — снятие наличности автом...   \n2       Финансовые институты — снятие наличности автом...   \n3       Финансовые институты — снятие наличности автом...   \n4       Звонки с использованием телефонов, считывающих...   \n...                                                   ...   \n130034                  Бакалейные магазины, супермаркеты   \n130035                                  Денежные переводы   \n130036                  Бакалейные магазины, супермаркеты   \n130037                  Бакалейные магазины, супермаркеты   \n130038                          Автозапчасти и аксессуары   \n\n                                         type_description  \n0                                   Выдача наличных в АТМ  \n1            Взнос наличных через АТМ (в своем тер.банке)  \n2                                   Выдача наличных в АТМ  \n3                                   Выдача наличных в АТМ  \n4                                Оплата услуги. Банкоматы  \n...                                                   ...  \n130034                                      Покупка. POS   \n130035  Списание с карты по операции “перевода с карты...  \n130036                                      Покупка. POS   \n130037                                      Покупка. POS   \n130038                                      Покупка. POS   \n\n[130039 rows x 7 columns]",
      "text/html": "<div>\n<style scoped>\n    .dataframe tbody tr th:only-of-type {\n        vertical-align: middle;\n    }\n\n    .dataframe tbody tr th {\n        vertical-align: top;\n    }\n\n    .dataframe thead th {\n        text-align: right;\n    }\n</style>\n<table border=\"1\" class=\"dataframe\">\n  <thead>\n    <tr style=\"text-align: right;\">\n      <th></th>\n      <th>client_id</th>\n      <th>datetime</th>\n      <th>code</th>\n      <th>type</th>\n      <th>sum</th>\n      <th>code_description</th>\n      <th>type_description</th>\n    </tr>\n  </thead>\n  <tbody>\n    <tr>\n      <th>0</th>\n      <td>96372458</td>\n      <td>421 06:33:15</td>\n      <td>6011</td>\n      <td>2010</td>\n      <td>-561478.94</td>\n      <td>Финансовые институты — снятие наличности автом...</td>\n      <td>Выдача наличных в АТМ</td>\n    </tr>\n    <tr>\n      <th>1</th>\n      <td>24567813</td>\n      <td>377 17:20:40</td>\n      <td>6011</td>\n      <td>7010</td>\n      <td>67377.47</td>\n      <td>Финансовые институты — снятие наличности автом...</td>\n      <td>Взнос наличных через АТМ (в своем тер.банке)</td>\n    </tr>\n    <tr>\n      <th>2</th>\n      <td>21717441</td>\n      <td>55 13:38:47</td>\n      <td>6011</td>\n      <td>2010</td>\n      <td>-44918.32</td>\n      <td>Финансовые институты — снятие наличности автом...</td>\n      <td>Выдача наличных в АТМ</td>\n    </tr>\n    <tr>\n      <th>3</th>\n      <td>14331004</td>\n      <td>263 12:57:08</td>\n      <td>6011</td>\n      <td>2010</td>\n      <td>-3368873.66</td>\n      <td>Финансовые институты — снятие наличности автом...</td>\n      <td>Выдача наличных в АТМ</td>\n    </tr>\n    <tr>\n      <th>4</th>\n      <td>85302434</td>\n      <td>151 10:34:12</td>\n      <td>4814</td>\n      <td>1030</td>\n      <td>-3368.87</td>\n      <td>Звонки с использованием телефонов, считывающих...</td>\n      <td>Оплата услуги. Банкоматы</td>\n    </tr>\n    <tr>\n      <th>...</th>\n      <td>...</td>\n      <td>...</td>\n      <td>...</td>\n      <td>...</td>\n      <td>...</td>\n      <td>...</td>\n      <td>...</td>\n    </tr>\n    <tr>\n      <th>130034</th>\n      <td>15836839</td>\n      <td>147 11:50:53</td>\n      <td>5411</td>\n      <td>1010</td>\n      <td>-26344.59</td>\n      <td>Бакалейные магазины, супермаркеты</td>\n      <td>Покупка. POS</td>\n    </tr>\n    <tr>\n      <th>130035</th>\n      <td>28369355</td>\n      <td>305 11:59:34</td>\n      <td>4829</td>\n      <td>2330</td>\n      <td>-24705.07</td>\n      <td>Денежные переводы</td>\n      <td>Списание с карты по операции “перевода с карты...</td>\n    </tr>\n    <tr>\n      <th>130036</th>\n      <td>40949707</td>\n      <td>398 21:13:58</td>\n      <td>5411</td>\n      <td>1110</td>\n      <td>-40353.72</td>\n      <td>Бакалейные магазины, супермаркеты</td>\n      <td>Покупка. POS</td>\n    </tr>\n    <tr>\n      <th>130037</th>\n      <td>7174462</td>\n      <td>409 13:58:14</td>\n      <td>5411</td>\n      <td>1010</td>\n      <td>-25536.06</td>\n      <td>Бакалейные магазины, супермаркеты</td>\n      <td>Покупка. POS</td>\n    </tr>\n    <tr>\n      <th>130038</th>\n      <td>92197764</td>\n      <td>319 00:00:00</td>\n      <td>5533</td>\n      <td>1110</td>\n      <td>-12127.95</td>\n      <td>Автозапчасти и аксессуары</td>\n      <td>Покупка. POS</td>\n    </tr>\n  </tbody>\n</table>\n<p>130039 rows × 7 columns</p>\n</div>"
     },
     "metadata": {}
    }
   ]
  },
  {
   "cell_type": "code",
   "source": "data = transactions.set_index(\"client_id\").join(train.set_index(\"client_id\")).reset_index().dropna()\ndata.head()",
   "metadata": {
    "cell_id": "43c711cc-5386-4057-85d3-a6d38d808378",
    "tags": [],
    "deepnote_to_be_reexecuted": false,
    "source_hash": "12f135b6",
    "execution_start": 1645112813591,
    "execution_millis": 204,
    "deepnote_cell_height": 360,
    "deepnote_cell_type": "code"
   },
   "outputs": [
    {
     "output_type": "execute_result",
     "execution_count": 57,
     "data": {
      "application/vnd.deepnote.dataframe.v3+json": {
       "column_count": 6,
       "row_count": 5,
       "columns": [
        {
         "name": "client_id",
         "dtype": "int64",
         "stats": {
          "unique_count": 1,
          "nan_count": 0,
          "min": "22899",
          "max": "22899",
          "histogram": [
           {
            "bin_start": 22898.5,
            "bin_end": 22898.6,
            "count": 0
           },
           {
            "bin_start": 22898.6,
            "bin_end": 22898.7,
            "count": 0
           },
           {
            "bin_start": 22898.7,
            "bin_end": 22898.8,
            "count": 0
           },
           {
            "bin_start": 22898.8,
            "bin_end": 22898.9,
            "count": 0
           },
           {
            "bin_start": 22898.9,
            "bin_end": 22899,
            "count": 0
           },
           {
            "bin_start": 22899,
            "bin_end": 22899.1,
            "count": 5
           },
           {
            "bin_start": 22899.1,
            "bin_end": 22899.2,
            "count": 0
           },
           {
            "bin_start": 22899.2,
            "bin_end": 22899.3,
            "count": 0
           },
           {
            "bin_start": 22899.3,
            "bin_end": 22899.4,
            "count": 0
           },
           {
            "bin_start": 22899.4,
            "bin_end": 22899.5,
            "count": 0
           }
          ]
         }
        },
        {
         "name": "datetime",
         "dtype": "object",
         "stats": {
          "unique_count": 5,
          "nan_count": 0,
          "categories": [
           {
            "name": "231 09:31:53",
            "count": 1
           },
           {
            "name": "349 16:34:52",
            "count": 1
           },
           {
            "name": "3 others",
            "count": 3
           }
          ]
         }
        },
        {
         "name": "code",
         "dtype": "int64",
         "stats": {
          "unique_count": 3,
          "nan_count": 0,
          "min": "4814",
          "max": "6011",
          "histogram": [
           {
            "bin_start": 4814,
            "bin_end": 4933.7,
            "count": 1
           },
           {
            "bin_start": 4933.7,
            "bin_end": 5053.4,
            "count": 0
           },
           {
            "bin_start": 5053.4,
            "bin_end": 5173.1,
            "count": 0
           },
           {
            "bin_start": 5173.1,
            "bin_end": 5292.8,
            "count": 0
           },
           {
            "bin_start": 5292.8,
            "bin_end": 5412.5,
            "count": 1
           },
           {
            "bin_start": 5412.5,
            "bin_end": 5532.2,
            "count": 0
           },
           {
            "bin_start": 5532.2,
            "bin_end": 5651.9,
            "count": 0
           },
           {
            "bin_start": 5651.9,
            "bin_end": 5771.6,
            "count": 0
           },
           {
            "bin_start": 5771.6,
            "bin_end": 5891.3,
            "count": 0
           },
           {
            "bin_start": 5891.3,
            "bin_end": 6011,
            "count": 3
           }
          ]
         }
        },
        {
         "name": "type",
         "dtype": "int64",
         "stats": {
          "unique_count": 4,
          "nan_count": 0,
          "min": "1030",
          "max": "4010",
          "histogram": [
           {
            "bin_start": 1030,
            "bin_end": 1328,
            "count": 2
           },
           {
            "bin_start": 1328,
            "bin_end": 1626,
            "count": 0
           },
           {
            "bin_start": 1626,
            "bin_end": 1924,
            "count": 0
           },
           {
            "bin_start": 1924,
            "bin_end": 2222,
            "count": 1
           },
           {
            "bin_start": 2222,
            "bin_end": 2520,
            "count": 0
           },
           {
            "bin_start": 2520,
            "bin_end": 2818,
            "count": 0
           },
           {
            "bin_start": 2818,
            "bin_end": 3116,
            "count": 0
           },
           {
            "bin_start": 3116,
            "bin_end": 3414,
            "count": 0
           },
           {
            "bin_start": 3414,
            "bin_end": 3712,
            "count": 0
           },
           {
            "bin_start": 3712,
            "bin_end": 4010,
            "count": 2
           }
          ]
         }
        },
        {
         "name": "sum",
         "dtype": "float64",
         "stats": {
          "unique_count": 4,
          "nan_count": 0,
          "min": "-8759.07",
          "max": "-1122.96",
          "histogram": [
           {
            "bin_start": -8759.07,
            "bin_end": -7995.459,
            "count": 2
           },
           {
            "bin_start": -7995.459,
            "bin_end": -7231.848,
            "count": 0
           },
           {
            "bin_start": -7231.848,
            "bin_end": -6468.236999999999,
            "count": 1
           },
           {
            "bin_start": -6468.236999999999,
            "bin_end": -5704.626,
            "count": 0
           },
           {
            "bin_start": -5704.626,
            "bin_end": -4941.014999999999,
            "count": 0
           },
           {
            "bin_start": -4941.014999999999,
            "bin_end": -4177.4039999999995,
            "count": 1
           },
           {
            "bin_start": -4177.4039999999995,
            "bin_end": -3413.7929999999997,
            "count": 0
           },
           {
            "bin_start": -3413.7929999999997,
            "bin_end": -2650.182,
            "count": 0
           },
           {
            "bin_start": -2650.182,
            "bin_end": -1886.571,
            "count": 0
           },
           {
            "bin_start": -1886.571,
            "bin_end": -1122.96,
            "count": 1
           }
          ]
         }
        },
        {
         "name": "target",
         "dtype": "float64",
         "stats": {
          "unique_count": 1,
          "nan_count": 0,
          "min": "1.0",
          "max": "1.0",
          "histogram": [
           {
            "bin_start": 0.5,
            "bin_end": 0.6,
            "count": 0
           },
           {
            "bin_start": 0.6,
            "bin_end": 0.7,
            "count": 0
           },
           {
            "bin_start": 0.7,
            "bin_end": 0.8,
            "count": 0
           },
           {
            "bin_start": 0.8,
            "bin_end": 0.9,
            "count": 0
           },
           {
            "bin_start": 0.9,
            "bin_end": 1,
            "count": 0
           },
           {
            "bin_start": 1,
            "bin_end": 1.1,
            "count": 5
           },
           {
            "bin_start": 1.1,
            "bin_end": 1.2000000000000002,
            "count": 0
           },
           {
            "bin_start": 1.2000000000000002,
            "bin_end": 1.3,
            "count": 0
           },
           {
            "bin_start": 1.3,
            "bin_end": 1.4,
            "count": 0
           },
           {
            "bin_start": 1.4,
            "bin_end": 1.5,
            "count": 0
           }
          ]
         }
        },
        {
         "name": "_deepnote_index_column",
         "dtype": "int64"
        }
       ],
       "rows": [
        {
         "client_id": 22899,
         "datetime": "231 09:31:53",
         "code": 6011,
         "type": 2110,
         "sum": -6737.75,
         "target": 1,
         "_deepnote_index_column": 0
        },
        {
         "client_id": 22899,
         "datetime": "349 16:34:52",
         "code": 6011,
         "type": 4010,
         "sum": -8759.07,
         "target": 1,
         "_deepnote_index_column": 1
        },
        {
         "client_id": 22899,
         "datetime": "441 15:36:37",
         "code": 6011,
         "type": 4010,
         "sum": -8759.07,
         "target": 1,
         "_deepnote_index_column": 2
        },
        {
         "client_id": 22899,
         "datetime": "167 09:50:12",
         "code": 4814,
         "type": 1030,
         "sum": -1122.96,
         "target": 1,
         "_deepnote_index_column": 3
        },
        {
         "client_id": 22899,
         "datetime": "221 18:54:19",
         "code": 5399,
         "type": 1110,
         "sum": -4626.59,
         "target": 1,
         "_deepnote_index_column": 4
        }
       ]
      },
      "text/plain": "   client_id      datetime  code  type      sum  target\n0      22899  231 09:31:53  6011  2110 -6737.75     1.0\n1      22899  349 16:34:52  6011  4010 -8759.07     1.0\n2      22899  441 15:36:37  6011  4010 -8759.07     1.0\n3      22899  167 09:50:12  4814  1030 -1122.96     1.0\n4      22899  221 18:54:19  5399  1110 -4626.59     1.0",
      "text/html": "<div>\n<style scoped>\n    .dataframe tbody tr th:only-of-type {\n        vertical-align: middle;\n    }\n\n    .dataframe tbody tr th {\n        vertical-align: top;\n    }\n\n    .dataframe thead th {\n        text-align: right;\n    }\n</style>\n<table border=\"1\" class=\"dataframe\">\n  <thead>\n    <tr style=\"text-align: right;\">\n      <th></th>\n      <th>client_id</th>\n      <th>datetime</th>\n      <th>code</th>\n      <th>type</th>\n      <th>sum</th>\n      <th>target</th>\n    </tr>\n  </thead>\n  <tbody>\n    <tr>\n      <th>0</th>\n      <td>22899</td>\n      <td>231 09:31:53</td>\n      <td>6011</td>\n      <td>2110</td>\n      <td>-6737.75</td>\n      <td>1.0</td>\n    </tr>\n    <tr>\n      <th>1</th>\n      <td>22899</td>\n      <td>349 16:34:52</td>\n      <td>6011</td>\n      <td>4010</td>\n      <td>-8759.07</td>\n      <td>1.0</td>\n    </tr>\n    <tr>\n      <th>2</th>\n      <td>22899</td>\n      <td>441 15:36:37</td>\n      <td>6011</td>\n      <td>4010</td>\n      <td>-8759.07</td>\n      <td>1.0</td>\n    </tr>\n    <tr>\n      <th>3</th>\n      <td>22899</td>\n      <td>167 09:50:12</td>\n      <td>4814</td>\n      <td>1030</td>\n      <td>-1122.96</td>\n      <td>1.0</td>\n    </tr>\n    <tr>\n      <th>4</th>\n      <td>22899</td>\n      <td>221 18:54:19</td>\n      <td>5399</td>\n      <td>1110</td>\n      <td>-4626.59</td>\n      <td>1.0</td>\n    </tr>\n  </tbody>\n</table>\n</div>"
     },
     "metadata": {}
    }
   ],
   "execution_count": 57
  },
  {
   "cell_type": "code",
   "metadata": {
    "cell_id": "00005-be90d451-8908-40c1-bad0-b336d7ea8126",
    "deepnote_output_heights": [
     21.1875
    ],
    "deepnote_to_be_reexecuted": false,
    "source_hash": "2007f58",
    "execution_start": 1645108748156,
    "execution_millis": 6,
    "deepnote_cell_height": 118,
    "deepnote_cell_type": "code"
   },
   "source": "data.shape",
   "execution_count": 8,
   "outputs": [
    {
     "output_type": "execute_result",
     "execution_count": 8,
     "data": {
      "text/plain": "(130039, 7)"
     },
     "metadata": {}
    }
   ]
  },
  {
   "cell_type": "code",
   "metadata": {
    "cell_id": "00006-ee585461-8fce-4d7e-ba3f-084b713e77af",
    "deepnote_to_be_reexecuted": false,
    "source_hash": "957547ae",
    "execution_start": 1645108749306,
    "execution_millis": 38,
    "deepnote_cell_height": 358,
    "deepnote_cell_type": "code"
   },
   "source": "data.info()",
   "execution_count": 9,
   "outputs": [
    {
     "name": "stdout",
     "text": "<class 'pandas.core.frame.DataFrame'>\nInt64Index: 130039 entries, 0 to 130038\nData columns (total 7 columns):\n #   Column            Non-Null Count   Dtype  \n---  ------            --------------   -----  \n 0   client_id         130039 non-null  int64  \n 1   datetime          130039 non-null  object \n 2   code              130039 non-null  int64  \n 3   type              130039 non-null  int64  \n 4   sum               130039 non-null  float64\n 5   code_description  130039 non-null  object \n 6   type_description  129998 non-null  object \ndtypes: float64(1), int64(3), object(3)\nmemory usage: 7.9+ MB\n",
     "output_type": "stream"
    }
   ]
  },
  {
   "cell_type": "code",
   "metadata": {
    "cell_id": "00007-48ef7067-e52b-4baa-a7f9-00988c1b0d57",
    "deepnote_output_heights": [
     155.59375
    ],
    "deepnote_to_be_reexecuted": false,
    "source_hash": "878de0e4",
    "execution_start": 1645108751206,
    "execution_millis": 62,
    "deepnote_cell_height": 251,
    "deepnote_cell_type": "code"
   },
   "source": "data.isnull().sum()",
   "execution_count": 10,
   "outputs": [
    {
     "output_type": "execute_result",
     "execution_count": 10,
     "data": {
      "text/plain": "client_id            0\ndatetime             0\ncode                 0\ntype                 0\nsum                  0\ncode_description     0\ntype_description    41\ndtype: int64"
     },
     "metadata": {}
    }
   ]
  },
  {
   "cell_type": "code",
   "metadata": {
    "cell_id": "00008-85465198-313f-4020-9ea8-8d61c2f343ad",
    "deepnote_output_heights": [
     264
    ],
    "deepnote_to_be_reexecuted": false,
    "source_hash": "bd44383b",
    "execution_start": 1645108752572,
    "execution_millis": 107,
    "deepnote_cell_height": 465,
    "deepnote_cell_type": "code"
   },
   "source": "data.dropna().describe()",
   "execution_count": 11,
   "outputs": [
    {
     "output_type": "execute_result",
     "execution_count": 11,
     "data": {
      "application/vnd.deepnote.dataframe.v3+json": {
       "column_count": 4,
       "row_count": 8,
       "columns": [
        {
         "name": "client_id",
         "dtype": "float64",
         "stats": {
          "unique_count": 8,
          "nan_count": 0,
          "min": "22899.0",
          "max": "99999680.0",
          "histogram": [
           {
            "bin_start": 22899,
            "bin_end": 10020577.1,
            "count": 2
           },
           {
            "bin_start": 10020577.1,
            "bin_end": 20018255.2,
            "count": 0
           },
           {
            "bin_start": 20018255.2,
            "bin_end": 30015933.299999997,
            "count": 2
           },
           {
            "bin_start": 30015933.299999997,
            "bin_end": 40013611.4,
            "count": 0
           },
           {
            "bin_start": 40013611.4,
            "bin_end": 50011289.5,
            "count": 0
           },
           {
            "bin_start": 50011289.5,
            "bin_end": 60008967.599999994,
            "count": 2
           },
           {
            "bin_start": 60008967.599999994,
            "bin_end": 70006645.7,
            "count": 0
           },
           {
            "bin_start": 70006645.7,
            "bin_end": 80004323.8,
            "count": 1
           },
           {
            "bin_start": 80004323.8,
            "bin_end": 90002001.89999999,
            "count": 0
           },
           {
            "bin_start": 90002001.89999999,
            "bin_end": 99999680,
            "count": 1
           }
          ]
         }
        },
        {
         "name": "code",
         "dtype": "float64",
         "stats": {
          "unique_count": 8,
          "nan_count": 0,
          "min": "606.1373215351114",
          "max": "129998.0",
          "histogram": [
           {
            "bin_start": 606.1373215351114,
            "bin_end": 13545.323589381602,
            "count": 7
           },
           {
            "bin_start": 13545.323589381602,
            "bin_end": 26484.50985722809,
            "count": 0
           },
           {
            "bin_start": 26484.50985722809,
            "bin_end": 39423.69612507458,
            "count": 0
           },
           {
            "bin_start": 39423.69612507458,
            "bin_end": 52362.88239292107,
            "count": 0
           },
           {
            "bin_start": 52362.88239292107,
            "bin_end": 65302.06866076756,
            "count": 0
           },
           {
            "bin_start": 65302.06866076756,
            "bin_end": 78241.25492861404,
            "count": 0
           },
           {
            "bin_start": 78241.25492861404,
            "bin_end": 91180.44119646052,
            "count": 0
           },
           {
            "bin_start": 91180.44119646052,
            "bin_end": 104119.62746430702,
            "count": 0
           },
           {
            "bin_start": 104119.62746430702,
            "bin_end": 117058.81373215352,
            "count": 0
           },
           {
            "bin_start": 117058.81373215352,
            "bin_end": 129998,
            "count": 1
           }
          ]
         }
        },
        {
         "name": "type",
         "dtype": "float64",
         "stats": {
          "unique_count": 8,
          "nan_count": 0,
          "min": "1000.0",
          "max": "129998.0",
          "histogram": [
           {
            "bin_start": 1000,
            "bin_end": 13899.8,
            "count": 7
           },
           {
            "bin_start": 13899.8,
            "bin_end": 26799.6,
            "count": 0
           },
           {
            "bin_start": 26799.6,
            "bin_end": 39699.399999999994,
            "count": 0
           },
           {
            "bin_start": 39699.399999999994,
            "bin_end": 52599.2,
            "count": 0
           },
           {
            "bin_start": 52599.2,
            "bin_end": 65499,
            "count": 0
           },
           {
            "bin_start": 65499,
            "bin_end": 78398.79999999999,
            "count": 0
           },
           {
            "bin_start": 78398.79999999999,
            "bin_end": 91298.59999999999,
            "count": 0
           },
           {
            "bin_start": 91298.59999999999,
            "bin_end": 104198.4,
            "count": 0
           },
           {
            "bin_start": 104198.4,
            "bin_end": 117098.2,
            "count": 0
           },
           {
            "bin_start": 117098.2,
            "bin_end": 129998,
            "count": 1
           }
          ]
         }
        },
        {
         "name": "sum",
         "dtype": "float64",
         "stats": {
          "unique_count": 8,
          "nan_count": 0,
          "min": "-41500301.14",
          "max": "67377473.16",
          "histogram": [
           {
            "bin_start": -41500301.14,
            "bin_end": -30612523.71,
            "count": 1
           },
           {
            "bin_start": -30612523.71,
            "bin_end": -19724746.28,
            "count": 0
           },
           {
            "bin_start": -19724746.28,
            "bin_end": -8836968.850000001,
            "count": 0
           },
           {
            "bin_start": -8836968.850000001,
            "bin_end": 2050808.5799999982,
            "count": 6
           },
           {
            "bin_start": 2050808.5799999982,
            "bin_end": 12938586.009999998,
            "count": 0
           },
           {
            "bin_start": 12938586.009999998,
            "bin_end": 23826363.439999998,
            "count": 0
           },
           {
            "bin_start": 23826363.439999998,
            "bin_end": 34714140.86999999,
            "count": 0
           },
           {
            "bin_start": 34714140.86999999,
            "bin_end": 45601918.3,
            "count": 0
           },
           {
            "bin_start": 45601918.3,
            "bin_end": 56489695.730000004,
            "count": 0
           },
           {
            "bin_start": 56489695.730000004,
            "bin_end": 67377473.16,
            "count": 1
           }
          ]
         }
        },
        {
         "name": "_deepnote_index_column",
         "dtype": "object"
        }
       ],
       "rows": [
        {
         "client_id": 129998,
         "code": 129998,
         "type": 129998,
         "sum": 129998,
         "_deepnote_index_column": "count"
        },
        {
         "client_id": 50868223.28181972,
         "code": 5594.498361513254,
         "type": 2489.2431114324836,
         "sum": -18078.067866890262,
         "_deepnote_index_column": "mean"
        },
        {
         "client_id": 28728559.366637904,
         "code": 606.1373215351114,
         "type": 2253.603326501747,
         "sum": 558510.8756163246,
         "_deepnote_index_column": "std"
        },
        {
         "client_id": 22899,
         "code": 742,
         "type": 1000,
         "sum": -41500301.14,
         "_deepnote_index_column": "min"
        },
        {
         "client_id": 25771743,
         "code": 5211,
         "type": 1030,
         "sum": -22436.7,
         "_deepnote_index_column": "25%"
        },
        {
         "client_id": 52358368,
         "code": 5641,
         "type": 1110,
         "sum": -5502.49,
         "_deepnote_index_column": "50%"
        },
        {
         "client_id": 75063019,
         "code": 6010,
         "type": 2370,
         "sum": -1122.96,
         "_deepnote_index_column": "75%"
        },
        {
         "client_id": 99999680,
         "code": 9402,
         "type": 8145,
         "sum": 67377473.16,
         "_deepnote_index_column": "max"
        }
       ]
      },
      "text/plain": "          client_id           code           type           sum\ncount  1.299980e+05  129998.000000  129998.000000  1.299980e+05\nmean   5.086822e+07    5594.498362    2489.243111 -1.807807e+04\nstd    2.872856e+07     606.137322    2253.603327  5.585109e+05\nmin    2.289900e+04     742.000000    1000.000000 -4.150030e+07\n25%    2.577174e+07    5211.000000    1030.000000 -2.243670e+04\n50%    5.235837e+07    5641.000000    1110.000000 -5.502490e+03\n75%    7.506302e+07    6010.000000    2370.000000 -1.122960e+03\nmax    9.999968e+07    9402.000000    8145.000000  6.737747e+07",
      "text/html": "<div>\n<style scoped>\n    .dataframe tbody tr th:only-of-type {\n        vertical-align: middle;\n    }\n\n    .dataframe tbody tr th {\n        vertical-align: top;\n    }\n\n    .dataframe thead th {\n        text-align: right;\n    }\n</style>\n<table border=\"1\" class=\"dataframe\">\n  <thead>\n    <tr style=\"text-align: right;\">\n      <th></th>\n      <th>client_id</th>\n      <th>code</th>\n      <th>type</th>\n      <th>sum</th>\n    </tr>\n  </thead>\n  <tbody>\n    <tr>\n      <th>count</th>\n      <td>1.299980e+05</td>\n      <td>129998.000000</td>\n      <td>129998.000000</td>\n      <td>1.299980e+05</td>\n    </tr>\n    <tr>\n      <th>mean</th>\n      <td>5.086822e+07</td>\n      <td>5594.498362</td>\n      <td>2489.243111</td>\n      <td>-1.807807e+04</td>\n    </tr>\n    <tr>\n      <th>std</th>\n      <td>2.872856e+07</td>\n      <td>606.137322</td>\n      <td>2253.603327</td>\n      <td>5.585109e+05</td>\n    </tr>\n    <tr>\n      <th>min</th>\n      <td>2.289900e+04</td>\n      <td>742.000000</td>\n      <td>1000.000000</td>\n      <td>-4.150030e+07</td>\n    </tr>\n    <tr>\n      <th>25%</th>\n      <td>2.577174e+07</td>\n      <td>5211.000000</td>\n      <td>1030.000000</td>\n      <td>-2.243670e+04</td>\n    </tr>\n    <tr>\n      <th>50%</th>\n      <td>5.235837e+07</td>\n      <td>5641.000000</td>\n      <td>1110.000000</td>\n      <td>-5.502490e+03</td>\n    </tr>\n    <tr>\n      <th>75%</th>\n      <td>7.506302e+07</td>\n      <td>6010.000000</td>\n      <td>2370.000000</td>\n      <td>-1.122960e+03</td>\n    </tr>\n    <tr>\n      <th>max</th>\n      <td>9.999968e+07</td>\n      <td>9402.000000</td>\n      <td>8145.000000</td>\n      <td>6.737747e+07</td>\n    </tr>\n  </tbody>\n</table>\n</div>"
     },
     "metadata": {}
    }
   ]
  },
  {
   "cell_type": "code",
   "metadata": {
    "cell_id": "00009-14b89fbb-c097-4478-a3a6-1cb65520b6e8",
    "deepnote_to_be_reexecuted": false,
    "source_hash": "6b1984ae",
    "execution_start": 1645108754715,
    "execution_millis": 42,
    "deepnote_cell_height": 81,
    "deepnote_cell_type": "code"
   },
   "source": "data.dropna(how=\"any\", inplace=True)",
   "execution_count": 12,
   "outputs": []
  },
  {
   "cell_type": "code",
   "metadata": {
    "cell_id": "00010-bdc603dd-9121-46c3-a575-eb59ead64444",
    "deepnote_output_heights": [
     21.1875
    ],
    "deepnote_to_be_reexecuted": false,
    "source_hash": "2007f58",
    "execution_start": 1645108755844,
    "execution_millis": 413,
    "deepnote_cell_height": 118,
    "deepnote_cell_type": "code"
   },
   "source": "data.shape",
   "execution_count": 13,
   "outputs": [
    {
     "output_type": "execute_result",
     "execution_count": 13,
     "data": {
      "text/plain": "(129998, 7)"
     },
     "metadata": {}
    }
   ]
  },
  {
   "cell_type": "code",
   "metadata": {
    "cell_id": "00011-0c876cff-f724-4c7c-ae5b-0817574afa3a",
    "deepnote_output_heights": [
     264
    ],
    "deepnote_to_be_reexecuted": false,
    "source_hash": "d786443f",
    "execution_start": 1645108757331,
    "execution_millis": 70,
    "deepnote_cell_height": 465,
    "deepnote_cell_type": "code"
   },
   "source": "data.describe()",
   "execution_count": 14,
   "outputs": [
    {
     "output_type": "execute_result",
     "execution_count": 14,
     "data": {
      "application/vnd.deepnote.dataframe.v3+json": {
       "column_count": 4,
       "row_count": 8,
       "columns": [
        {
         "name": "client_id",
         "dtype": "float64",
         "stats": {
          "unique_count": 8,
          "nan_count": 0,
          "min": "22899.0",
          "max": "99999680.0",
          "histogram": [
           {
            "bin_start": 22899,
            "bin_end": 10020577.1,
            "count": 2
           },
           {
            "bin_start": 10020577.1,
            "bin_end": 20018255.2,
            "count": 0
           },
           {
            "bin_start": 20018255.2,
            "bin_end": 30015933.299999997,
            "count": 2
           },
           {
            "bin_start": 30015933.299999997,
            "bin_end": 40013611.4,
            "count": 0
           },
           {
            "bin_start": 40013611.4,
            "bin_end": 50011289.5,
            "count": 0
           },
           {
            "bin_start": 50011289.5,
            "bin_end": 60008967.599999994,
            "count": 2
           },
           {
            "bin_start": 60008967.599999994,
            "bin_end": 70006645.7,
            "count": 0
           },
           {
            "bin_start": 70006645.7,
            "bin_end": 80004323.8,
            "count": 1
           },
           {
            "bin_start": 80004323.8,
            "bin_end": 90002001.89999999,
            "count": 0
           },
           {
            "bin_start": 90002001.89999999,
            "bin_end": 99999680,
            "count": 1
           }
          ]
         }
        },
        {
         "name": "code",
         "dtype": "float64",
         "stats": {
          "unique_count": 8,
          "nan_count": 0,
          "min": "606.1373215351114",
          "max": "129998.0",
          "histogram": [
           {
            "bin_start": 606.1373215351114,
            "bin_end": 13545.323589381602,
            "count": 7
           },
           {
            "bin_start": 13545.323589381602,
            "bin_end": 26484.50985722809,
            "count": 0
           },
           {
            "bin_start": 26484.50985722809,
            "bin_end": 39423.69612507458,
            "count": 0
           },
           {
            "bin_start": 39423.69612507458,
            "bin_end": 52362.88239292107,
            "count": 0
           },
           {
            "bin_start": 52362.88239292107,
            "bin_end": 65302.06866076756,
            "count": 0
           },
           {
            "bin_start": 65302.06866076756,
            "bin_end": 78241.25492861404,
            "count": 0
           },
           {
            "bin_start": 78241.25492861404,
            "bin_end": 91180.44119646052,
            "count": 0
           },
           {
            "bin_start": 91180.44119646052,
            "bin_end": 104119.62746430702,
            "count": 0
           },
           {
            "bin_start": 104119.62746430702,
            "bin_end": 117058.81373215352,
            "count": 0
           },
           {
            "bin_start": 117058.81373215352,
            "bin_end": 129998,
            "count": 1
           }
          ]
         }
        },
        {
         "name": "type",
         "dtype": "float64",
         "stats": {
          "unique_count": 8,
          "nan_count": 0,
          "min": "1000.0",
          "max": "129998.0",
          "histogram": [
           {
            "bin_start": 1000,
            "bin_end": 13899.8,
            "count": 7
           },
           {
            "bin_start": 13899.8,
            "bin_end": 26799.6,
            "count": 0
           },
           {
            "bin_start": 26799.6,
            "bin_end": 39699.399999999994,
            "count": 0
           },
           {
            "bin_start": 39699.399999999994,
            "bin_end": 52599.2,
            "count": 0
           },
           {
            "bin_start": 52599.2,
            "bin_end": 65499,
            "count": 0
           },
           {
            "bin_start": 65499,
            "bin_end": 78398.79999999999,
            "count": 0
           },
           {
            "bin_start": 78398.79999999999,
            "bin_end": 91298.59999999999,
            "count": 0
           },
           {
            "bin_start": 91298.59999999999,
            "bin_end": 104198.4,
            "count": 0
           },
           {
            "bin_start": 104198.4,
            "bin_end": 117098.2,
            "count": 0
           },
           {
            "bin_start": 117098.2,
            "bin_end": 129998,
            "count": 1
           }
          ]
         }
        },
        {
         "name": "sum",
         "dtype": "float64",
         "stats": {
          "unique_count": 8,
          "nan_count": 0,
          "min": "-41500301.14",
          "max": "67377473.16",
          "histogram": [
           {
            "bin_start": -41500301.14,
            "bin_end": -30612523.71,
            "count": 1
           },
           {
            "bin_start": -30612523.71,
            "bin_end": -19724746.28,
            "count": 0
           },
           {
            "bin_start": -19724746.28,
            "bin_end": -8836968.850000001,
            "count": 0
           },
           {
            "bin_start": -8836968.850000001,
            "bin_end": 2050808.5799999982,
            "count": 6
           },
           {
            "bin_start": 2050808.5799999982,
            "bin_end": 12938586.009999998,
            "count": 0
           },
           {
            "bin_start": 12938586.009999998,
            "bin_end": 23826363.439999998,
            "count": 0
           },
           {
            "bin_start": 23826363.439999998,
            "bin_end": 34714140.86999999,
            "count": 0
           },
           {
            "bin_start": 34714140.86999999,
            "bin_end": 45601918.3,
            "count": 0
           },
           {
            "bin_start": 45601918.3,
            "bin_end": 56489695.730000004,
            "count": 0
           },
           {
            "bin_start": 56489695.730000004,
            "bin_end": 67377473.16,
            "count": 1
           }
          ]
         }
        },
        {
         "name": "_deepnote_index_column",
         "dtype": "object"
        }
       ],
       "rows": [
        {
         "client_id": 129998,
         "code": 129998,
         "type": 129998,
         "sum": 129998,
         "_deepnote_index_column": "count"
        },
        {
         "client_id": 50868223.28181972,
         "code": 5594.498361513254,
         "type": 2489.2431114324836,
         "sum": -18078.067866890262,
         "_deepnote_index_column": "mean"
        },
        {
         "client_id": 28728559.366637904,
         "code": 606.1373215351114,
         "type": 2253.603326501747,
         "sum": 558510.8756163246,
         "_deepnote_index_column": "std"
        },
        {
         "client_id": 22899,
         "code": 742,
         "type": 1000,
         "sum": -41500301.14,
         "_deepnote_index_column": "min"
        },
        {
         "client_id": 25771743,
         "code": 5211,
         "type": 1030,
         "sum": -22436.7,
         "_deepnote_index_column": "25%"
        },
        {
         "client_id": 52358368,
         "code": 5641,
         "type": 1110,
         "sum": -5502.49,
         "_deepnote_index_column": "50%"
        },
        {
         "client_id": 75063019,
         "code": 6010,
         "type": 2370,
         "sum": -1122.96,
         "_deepnote_index_column": "75%"
        },
        {
         "client_id": 99999680,
         "code": 9402,
         "type": 8145,
         "sum": 67377473.16,
         "_deepnote_index_column": "max"
        }
       ]
      },
      "text/plain": "          client_id           code           type           sum\ncount  1.299980e+05  129998.000000  129998.000000  1.299980e+05\nmean   5.086822e+07    5594.498362    2489.243111 -1.807807e+04\nstd    2.872856e+07     606.137322    2253.603327  5.585109e+05\nmin    2.289900e+04     742.000000    1000.000000 -4.150030e+07\n25%    2.577174e+07    5211.000000    1030.000000 -2.243670e+04\n50%    5.235837e+07    5641.000000    1110.000000 -5.502490e+03\n75%    7.506302e+07    6010.000000    2370.000000 -1.122960e+03\nmax    9.999968e+07    9402.000000    8145.000000  6.737747e+07",
      "text/html": "<div>\n<style scoped>\n    .dataframe tbody tr th:only-of-type {\n        vertical-align: middle;\n    }\n\n    .dataframe tbody tr th {\n        vertical-align: top;\n    }\n\n    .dataframe thead th {\n        text-align: right;\n    }\n</style>\n<table border=\"1\" class=\"dataframe\">\n  <thead>\n    <tr style=\"text-align: right;\">\n      <th></th>\n      <th>client_id</th>\n      <th>code</th>\n      <th>type</th>\n      <th>sum</th>\n    </tr>\n  </thead>\n  <tbody>\n    <tr>\n      <th>count</th>\n      <td>1.299980e+05</td>\n      <td>129998.000000</td>\n      <td>129998.000000</td>\n      <td>1.299980e+05</td>\n    </tr>\n    <tr>\n      <th>mean</th>\n      <td>5.086822e+07</td>\n      <td>5594.498362</td>\n      <td>2489.243111</td>\n      <td>-1.807807e+04</td>\n    </tr>\n    <tr>\n      <th>std</th>\n      <td>2.872856e+07</td>\n      <td>606.137322</td>\n      <td>2253.603327</td>\n      <td>5.585109e+05</td>\n    </tr>\n    <tr>\n      <th>min</th>\n      <td>2.289900e+04</td>\n      <td>742.000000</td>\n      <td>1000.000000</td>\n      <td>-4.150030e+07</td>\n    </tr>\n    <tr>\n      <th>25%</th>\n      <td>2.577174e+07</td>\n      <td>5211.000000</td>\n      <td>1030.000000</td>\n      <td>-2.243670e+04</td>\n    </tr>\n    <tr>\n      <th>50%</th>\n      <td>5.235837e+07</td>\n      <td>5641.000000</td>\n      <td>1110.000000</td>\n      <td>-5.502490e+03</td>\n    </tr>\n    <tr>\n      <th>75%</th>\n      <td>7.506302e+07</td>\n      <td>6010.000000</td>\n      <td>2370.000000</td>\n      <td>-1.122960e+03</td>\n    </tr>\n    <tr>\n      <th>max</th>\n      <td>9.999968e+07</td>\n      <td>9402.000000</td>\n      <td>8145.000000</td>\n      <td>6.737747e+07</td>\n    </tr>\n  </tbody>\n</table>\n</div>"
     },
     "metadata": {}
    }
   ]
  },
  {
   "cell_type": "code",
   "metadata": {
    "cell_id": "00012-183f5eb5-43e6-49fa-9b45-d5cef67b2bce",
    "deepnote_output_heights": [
     177
    ],
    "deepnote_to_be_reexecuted": false,
    "source_hash": "77725020",
    "execution_start": 1645108760244,
    "execution_millis": 10,
    "deepnote_cell_height": 378,
    "deepnote_cell_type": "code"
   },
   "source": "# to get dataset of only numbers\ndata_num = data.select_dtypes(include = ['float64', 'int64'])\ndata_num.head()",
   "execution_count": 15,
   "outputs": [
    {
     "output_type": "execute_result",
     "execution_count": 15,
     "data": {
      "application/vnd.deepnote.dataframe.v3+json": {
       "column_count": 4,
       "row_count": 5,
       "columns": [
        {
         "name": "client_id",
         "dtype": "int64",
         "stats": {
          "unique_count": 5,
          "nan_count": 0,
          "min": "14331004",
          "max": "96372458",
          "histogram": [
           {
            "bin_start": 14331004,
            "bin_end": 22535149.4,
            "count": 2
           },
           {
            "bin_start": 22535149.4,
            "bin_end": 30739294.8,
            "count": 1
           },
           {
            "bin_start": 30739294.8,
            "bin_end": 38943440.2,
            "count": 0
           },
           {
            "bin_start": 38943440.2,
            "bin_end": 47147585.6,
            "count": 0
           },
           {
            "bin_start": 47147585.6,
            "bin_end": 55351731,
            "count": 0
           },
           {
            "bin_start": 55351731,
            "bin_end": 63555876.400000006,
            "count": 0
           },
           {
            "bin_start": 63555876.400000006,
            "bin_end": 71760021.80000001,
            "count": 0
           },
           {
            "bin_start": 71760021.80000001,
            "bin_end": 79964167.2,
            "count": 0
           },
           {
            "bin_start": 79964167.2,
            "bin_end": 88168312.60000001,
            "count": 1
           },
           {
            "bin_start": 88168312.60000001,
            "bin_end": 96372458,
            "count": 1
           }
          ]
         }
        },
        {
         "name": "code",
         "dtype": "int64",
         "stats": {
          "unique_count": 2,
          "nan_count": 0,
          "min": "4814",
          "max": "6011",
          "histogram": [
           {
            "bin_start": 4814,
            "bin_end": 4933.7,
            "count": 1
           },
           {
            "bin_start": 4933.7,
            "bin_end": 5053.4,
            "count": 0
           },
           {
            "bin_start": 5053.4,
            "bin_end": 5173.1,
            "count": 0
           },
           {
            "bin_start": 5173.1,
            "bin_end": 5292.8,
            "count": 0
           },
           {
            "bin_start": 5292.8,
            "bin_end": 5412.5,
            "count": 0
           },
           {
            "bin_start": 5412.5,
            "bin_end": 5532.2,
            "count": 0
           },
           {
            "bin_start": 5532.2,
            "bin_end": 5651.9,
            "count": 0
           },
           {
            "bin_start": 5651.9,
            "bin_end": 5771.6,
            "count": 0
           },
           {
            "bin_start": 5771.6,
            "bin_end": 5891.3,
            "count": 0
           },
           {
            "bin_start": 5891.3,
            "bin_end": 6011,
            "count": 4
           }
          ]
         }
        },
        {
         "name": "type",
         "dtype": "int64",
         "stats": {
          "unique_count": 3,
          "nan_count": 0,
          "min": "1030",
          "max": "7010",
          "histogram": [
           {
            "bin_start": 1030,
            "bin_end": 1628,
            "count": 1
           },
           {
            "bin_start": 1628,
            "bin_end": 2226,
            "count": 3
           },
           {
            "bin_start": 2226,
            "bin_end": 2824,
            "count": 0
           },
           {
            "bin_start": 2824,
            "bin_end": 3422,
            "count": 0
           },
           {
            "bin_start": 3422,
            "bin_end": 4020,
            "count": 0
           },
           {
            "bin_start": 4020,
            "bin_end": 4618,
            "count": 0
           },
           {
            "bin_start": 4618,
            "bin_end": 5216,
            "count": 0
           },
           {
            "bin_start": 5216,
            "bin_end": 5814,
            "count": 0
           },
           {
            "bin_start": 5814,
            "bin_end": 6412,
            "count": 0
           },
           {
            "bin_start": 6412,
            "bin_end": 7010,
            "count": 1
           }
          ]
         }
        },
        {
         "name": "sum",
         "dtype": "float64",
         "stats": {
          "unique_count": 5,
          "nan_count": 0,
          "min": "-3368873.66",
          "max": "67377.47",
          "histogram": [
           {
            "bin_start": -3368873.66,
            "bin_end": -3025248.5470000003,
            "count": 1
           },
           {
            "bin_start": -3025248.5470000003,
            "bin_end": -2681623.4340000004,
            "count": 0
           },
           {
            "bin_start": -2681623.4340000004,
            "bin_end": -2337998.321,
            "count": 0
           },
           {
            "bin_start": -2337998.321,
            "bin_end": -1994373.208,
            "count": 0
           },
           {
            "bin_start": -1994373.208,
            "bin_end": -1650748.0950000002,
            "count": 0
           },
           {
            "bin_start": -1650748.0950000002,
            "bin_end": -1307122.982,
            "count": 0
           },
           {
            "bin_start": -1307122.982,
            "bin_end": -963497.869,
            "count": 0
           },
           {
            "bin_start": -963497.869,
            "bin_end": -619872.756,
            "count": 0
           },
           {
            "bin_start": -619872.756,
            "bin_end": -276247.64300000016,
            "count": 1
           },
           {
            "bin_start": -276247.64300000016,
            "bin_end": 67377.47,
            "count": 3
           }
          ]
         }
        },
        {
         "name": "_deepnote_index_column",
         "dtype": "int64"
        }
       ],
       "rows": [
        {
         "client_id": 96372458,
         "code": 6011,
         "type": 2010,
         "sum": -561478.94,
         "_deepnote_index_column": 0
        },
        {
         "client_id": 24567813,
         "code": 6011,
         "type": 7010,
         "sum": 67377.47,
         "_deepnote_index_column": 1
        },
        {
         "client_id": 21717441,
         "code": 6011,
         "type": 2010,
         "sum": -44918.32,
         "_deepnote_index_column": 2
        },
        {
         "client_id": 14331004,
         "code": 6011,
         "type": 2010,
         "sum": -3368873.66,
         "_deepnote_index_column": 3
        },
        {
         "client_id": 85302434,
         "code": 4814,
         "type": 1030,
         "sum": -3368.87,
         "_deepnote_index_column": 4
        }
       ]
      },
      "text/plain": "   client_id  code  type         sum\n0   96372458  6011  2010  -561478.94\n1   24567813  6011  7010    67377.47\n2   21717441  6011  2010   -44918.32\n3   14331004  6011  2010 -3368873.66\n4   85302434  4814  1030    -3368.87",
      "text/html": "<div>\n<style scoped>\n    .dataframe tbody tr th:only-of-type {\n        vertical-align: middle;\n    }\n\n    .dataframe tbody tr th {\n        vertical-align: top;\n    }\n\n    .dataframe thead th {\n        text-align: right;\n    }\n</style>\n<table border=\"1\" class=\"dataframe\">\n  <thead>\n    <tr style=\"text-align: right;\">\n      <th></th>\n      <th>client_id</th>\n      <th>code</th>\n      <th>type</th>\n      <th>sum</th>\n    </tr>\n  </thead>\n  <tbody>\n    <tr>\n      <th>0</th>\n      <td>96372458</td>\n      <td>6011</td>\n      <td>2010</td>\n      <td>-561478.94</td>\n    </tr>\n    <tr>\n      <th>1</th>\n      <td>24567813</td>\n      <td>6011</td>\n      <td>7010</td>\n      <td>67377.47</td>\n    </tr>\n    <tr>\n      <th>2</th>\n      <td>21717441</td>\n      <td>6011</td>\n      <td>2010</td>\n      <td>-44918.32</td>\n    </tr>\n    <tr>\n      <th>3</th>\n      <td>14331004</td>\n      <td>6011</td>\n      <td>2010</td>\n      <td>-3368873.66</td>\n    </tr>\n    <tr>\n      <th>4</th>\n      <td>85302434</td>\n      <td>4814</td>\n      <td>1030</td>\n      <td>-3368.87</td>\n    </tr>\n  </tbody>\n</table>\n</div>"
     },
     "metadata": {}
    }
   ]
  },
  {
   "cell_type": "code",
   "metadata": {
    "cell_id": "00013-a2c1cc75-703d-474c-98ed-5d859f785e34",
    "deepnote_output_heights": [
     232.390625
    ],
    "deepnote_to_be_reexecuted": false,
    "source_hash": "4ed4f117",
    "execution_start": 1645096664161,
    "execution_millis": 24,
    "deepnote_cell_height": 327,
    "deepnote_cell_type": "code"
   },
   "source": "data.code_description.value_counts()",
   "execution_count": null,
   "outputs": [
    {
     "output_type": "execute_result",
     "execution_count": 12,
     "data": {
      "text/plain": "Финансовые институты — снятие наличности автоматически            27917\nФинансовые институты — снятие наличности вручную                  18684\nЗвонки с использованием телефонов, считывающих магнитную ленту    18641\nБакалейные магазины, супермаркеты                                 18490\nДенежные переводы                                                 11423\n                                                                  ...  \nПродажа музыкальных инструментов, фортепиано, нот                     1\nРемонт бытовой техники, ремонт электроприборы                         1\nАгенты и менеджеры по аренде недвижимости                             1\nНефть и нефтепродукты                                                 1\nРазнообразные издательства/печатное дело                              1\nName: code_description, Length: 175, dtype: int64"
     },
     "metadata": {}
    }
   ]
  },
  {
   "cell_type": "code",
   "metadata": {
    "cell_id": "00014-a7064695-f34c-4493-a9f2-f24ae8a82336",
    "deepnote_output_heights": [
     611
    ],
    "deepnote_to_be_reexecuted": false,
    "source_hash": "9e4039fe",
    "execution_start": 1645108763174,
    "execution_millis": 11,
    "deepnote_cell_height": 708,
    "deepnote_cell_type": "code"
   },
   "source": "data.type_description.value_counts()",
   "execution_count": 16,
   "outputs": [
    {
     "output_type": "execute_result",
     "execution_count": 16,
     "data": {
      "text/plain": "Покупка. POS                                                                                             48450\nВыдача наличных в АТМ                                                                                    20204\nОплата услуги. Банкоматы                                                                                 18368\nПеревод на карту (с карты) через Мобильный банк (без взимания комиссии с отправителя)                    12915\nСписание с карты на карту по операции <перевода с карты на карту> через Мобильный банк (без комиссии)     6848\nВзнос наличных через АТМ (в своем тер.банке)                                                              4989\nПеревод на карту (с карты) через АТМ (в пределах одного тер.банка)                                        2860\nПокупка.                                                                                                  2233\nПокупка. Зарубеж.                                                                                         1797\nПеревод на карту (с карты) через Мобильный банк (с взиманием комиссии с отправителя)                      1538\nСписание с карты по операции “перевода с карты на карту” через АТМ (в пределах одного тер.банка)          1370\nПлата за перевод на карту (с карты) через Мобильный банк                                                  1175\nСписание с карты на карту по операции <перевода с карты на карту> через Мобильный банк (с комиссией)      1170\nВыдача наличных в АТМ банка (в других ТБ)                                                                 1139\nПлата за получение наличных в АТМ банка                                                                    583\nПеревод на карту (с карты) через АТМ (из одного ТБ в другой ТБ)                                            568\nВзнос наличных через POS                                                                                   454\nВозврат покупки. POS                                                                                       409\nПлата за перевод на карту (с карты) через АТМ (из одного ТБ в другой ТБ)                                   393\nСписание с карты по операции “перевода с карты на карту” через АТМ (из одного ТБ в другой ТБ)              390\nПокупка. POS  Зарубеж.                                                                                     384\nВзнос наличных через АТМ                                                                                   235\nВыдача наличных через POS банка                                                                            231\nПлата за получение наличных в АТМ банка (в других ТБ)                                                      228\nПлата за получение наличных в АТМ.                                                                         180\nНаличные.   АТМ                                                                                            159\nн/д                                                                                                        122\nВозврат  покупки. Зарубеж.                                                                                  93\nБезналичный перевод денежных средств через POS                                                              92\nНаличные.  АТМ Зарубеж. банк                                                                                85\nПлата за получение наличных в АТМ. Зарубеж.                                                                 69\nВозврат  покупки. POS                                                                                       40\nПеревод с карты на карту в овердрафте через Мобильный банк (без взимания комиссии)                          37\nВозврат  покупки.                                                                                           36\nВзнос наличных через АТМ (в своем ТБ) по счету в овердрафте                                                 35\nПлата за взнос наличных через POS (в другом тер.банке)                                                      20\nВозврат покупки.POS Зарубеж.                                                                                14\nПеревод с карты на карту в овердрафте через Мобильный банк (со взиманием комиссии)                          13\nПеревод на карту/ с карты через АТМ (без взимания комиссии с отправителя) по счету в овердрафте             12\nВыдача наличных через POS банка (в других ТБ)                                                                9\nПлата за превыш.лимита                                                                                       9\nСписание после проведения претензионной работы                                                               7\nПлата за взнос наличных через АТМ (в другом тер.банке)                                                       7\nПеревод на карту (с карты) через POS (в пределах одного тер.банка)                                           4\nСписание с карты по операции “перевода с карты на карту” через POS (в пределах одного тер.банка)             4\nПлата за получение наличных через POS в банке                                                                3\nВзнос наличных через АТМ (в других ТБ) по счету в овердрафте                                                 3\nПлата за получение наличных через POS в банке (в других ТБ)                                                  3\nПлата за перевод на карту (с карты) через POS                                                                2\nВзнос наличных через POS (в своем ТБ) по счету в овердрафте                                                  2\nЗачисление до завершения претензионной работы                                                                1\nПеревод на карту (с карты) через POS (из одного ТБ в другой ТБ)                                              1\nПеревод на карту/ с карты через АТМ (со взиманием комиссии с отправителя) по счету в овердрафте              1\nПлата за получение наличных. Зарубеж.                                                                        1\nВзнос наличных через POS (в других ТБ) по счету в овердрафте                                                 1\nСписание с карты по операции “перевода с карты на карту” через POS (из одного ТБ в другой ТБ)                1\nНаличные.                                                                                                    1\nName: type_description, dtype: int64"
     },
     "metadata": {}
    }
   ]
  },
  {
   "cell_type": "code",
   "metadata": {
    "cell_id": "00015-3f59d3d4-71b4-4f9d-868a-45a1dcaed4ce",
    "deepnote_output_heights": [
     null,
     177,
     null,
     177,
     null,
     177,
     null,
     177,
     null,
     177,
     null,
     177
    ],
    "deepnote_to_be_reexecuted": false,
    "source_hash": "f2f1b5ed",
    "execution_start": 1645108765635,
    "execution_millis": 474,
    "deepnote_cell_height": 2200,
    "deepnote_cell_type": "code"
   },
   "source": "#Get Most Frequent value for all columns\nfrom pandas.api.types import is_categorical_dtype\n\nfor col in data.columns:\n    print(col, end=' - \\n')\n    print('_' * 50)\n    if col in ['Type description'] or is_categorical_dtype(col):\n        display(pd.DataFrame(data[col].astype('str').value_counts().sort_values(ascending=False).head(3)))\n    else:\n        display(pd.DataFrame(data[col].value_counts().sort_values(ascending=False).head(5)))",
   "execution_count": 17,
   "outputs": [
    {
     "name": "stdout",
     "text": "client_id - \n__________________________________________________\n",
     "output_type": "stream"
    },
    {
     "data": {
      "text/plain": "          client_id\n70780820       2777\n25270793        508\n87252636        497\n11701078        470\n76043922        463",
      "text/html": "<div>\n<style scoped>\n    .dataframe tbody tr th:only-of-type {\n        vertical-align: middle;\n    }\n\n    .dataframe tbody tr th {\n        vertical-align: top;\n    }\n\n    .dataframe thead th {\n        text-align: right;\n    }\n</style>\n<table border=\"1\" class=\"dataframe\">\n  <thead>\n    <tr style=\"text-align: right;\">\n      <th></th>\n      <th>client_id</th>\n    </tr>\n  </thead>\n  <tbody>\n    <tr>\n      <th>70780820</th>\n      <td>2777</td>\n    </tr>\n    <tr>\n      <th>25270793</th>\n      <td>508</td>\n    </tr>\n    <tr>\n      <th>87252636</th>\n      <td>497</td>\n    </tr>\n    <tr>\n      <th>11701078</th>\n      <td>470</td>\n    </tr>\n    <tr>\n      <th>76043922</th>\n      <td>463</td>\n    </tr>\n  </tbody>\n</table>\n</div>"
     },
     "metadata": {},
     "output_type": "display_data"
    },
    {
     "name": "stdout",
     "text": "datetime - \n__________________________________________________\n",
     "output_type": "stream"
    },
    {
     "data": {
      "text/plain": "              datetime\n456 00:00:00        60\n169 00:00:00        53\n120 00:00:00        53\n393 00:00:00        52\n325 00:00:00        52",
      "text/html": "<div>\n<style scoped>\n    .dataframe tbody tr th:only-of-type {\n        vertical-align: middle;\n    }\n\n    .dataframe tbody tr th {\n        vertical-align: top;\n    }\n\n    .dataframe thead th {\n        text-align: right;\n    }\n</style>\n<table border=\"1\" class=\"dataframe\">\n  <thead>\n    <tr style=\"text-align: right;\">\n      <th></th>\n      <th>datetime</th>\n    </tr>\n  </thead>\n  <tbody>\n    <tr>\n      <th>456 00:00:00</th>\n      <td>60</td>\n    </tr>\n    <tr>\n      <th>169 00:00:00</th>\n      <td>53</td>\n    </tr>\n    <tr>\n      <th>120 00:00:00</th>\n      <td>53</td>\n    </tr>\n    <tr>\n      <th>393 00:00:00</th>\n      <td>52</td>\n    </tr>\n    <tr>\n      <th>325 00:00:00</th>\n      <td>52</td>\n    </tr>\n  </tbody>\n</table>\n</div>"
     },
     "metadata": {},
     "output_type": "display_data"
    },
    {
     "name": "stdout",
     "text": "code - \n__________________________________________________\n",
     "output_type": "stream"
    },
    {
     "data": {
      "text/plain": "       code\n6011  27917\n6010  18684\n4814  18641\n5411  18490\n4829  11423",
      "text/html": "<div>\n<style scoped>\n    .dataframe tbody tr th:only-of-type {\n        vertical-align: middle;\n    }\n\n    .dataframe tbody tr th {\n        vertical-align: top;\n    }\n\n    .dataframe thead th {\n        text-align: right;\n    }\n</style>\n<table border=\"1\" class=\"dataframe\">\n  <thead>\n    <tr style=\"text-align: right;\">\n      <th></th>\n      <th>code</th>\n    </tr>\n  </thead>\n  <tbody>\n    <tr>\n      <th>6011</th>\n      <td>27917</td>\n    </tr>\n    <tr>\n      <th>6010</th>\n      <td>18684</td>\n    </tr>\n    <tr>\n      <th>4814</th>\n      <td>18641</td>\n    </tr>\n    <tr>\n      <th>5411</th>\n      <td>18490</td>\n    </tr>\n    <tr>\n      <th>4829</th>\n      <td>11423</td>\n    </tr>\n  </tbody>\n</table>\n</div>"
     },
     "metadata": {},
     "output_type": "display_data"
    },
    {
     "name": "stdout",
     "text": "type - \n__________________________________________________\n",
     "output_type": "stream"
    },
    {
     "data": {
      "text/plain": "       type\n1010  30802\n2010  20204\n1030  18368\n1110  17648\n7070  12915",
      "text/html": "<div>\n<style scoped>\n    .dataframe tbody tr th:only-of-type {\n        vertical-align: middle;\n    }\n\n    .dataframe tbody tr th {\n        vertical-align: top;\n    }\n\n    .dataframe thead th {\n        text-align: right;\n    }\n</style>\n<table border=\"1\" class=\"dataframe\">\n  <thead>\n    <tr style=\"text-align: right;\">\n      <th></th>\n      <th>type</th>\n    </tr>\n  </thead>\n  <tbody>\n    <tr>\n      <th>1010</th>\n      <td>30802</td>\n    </tr>\n    <tr>\n      <th>2010</th>\n      <td>20204</td>\n    </tr>\n    <tr>\n      <th>1030</th>\n      <td>18368</td>\n    </tr>\n    <tr>\n      <th>1110</th>\n      <td>17648</td>\n    </tr>\n    <tr>\n      <th>7070</th>\n      <td>12915</td>\n    </tr>\n  </tbody>\n</table>\n</div>"
     },
     "metadata": {},
     "output_type": "display_data"
    },
    {
     "name": "stdout",
     "text": "sum - \n__________________________________________________\n",
     "output_type": "stream"
    },
    {
     "data": {
      "text/plain": "            sum\n-2245.92   7487\n-11229.58  3776\n-1122.96   3769\n-22459.16  3678\n-4491.83   3441",
      "text/html": "<div>\n<style scoped>\n    .dataframe tbody tr th:only-of-type {\n        vertical-align: middle;\n    }\n\n    .dataframe tbody tr th {\n        vertical-align: top;\n    }\n\n    .dataframe thead th {\n        text-align: right;\n    }\n</style>\n<table border=\"1\" class=\"dataframe\">\n  <thead>\n    <tr style=\"text-align: right;\">\n      <th></th>\n      <th>sum</th>\n    </tr>\n  </thead>\n  <tbody>\n    <tr>\n      <th>-2245.92</th>\n      <td>7487</td>\n    </tr>\n    <tr>\n      <th>-11229.58</th>\n      <td>3776</td>\n    </tr>\n    <tr>\n      <th>-1122.96</th>\n      <td>3769</td>\n    </tr>\n    <tr>\n      <th>-22459.16</th>\n      <td>3678</td>\n    </tr>\n    <tr>\n      <th>-4491.83</th>\n      <td>3441</td>\n    </tr>\n  </tbody>\n</table>\n</div>"
     },
     "metadata": {},
     "output_type": "display_data"
    },
    {
     "name": "stdout",
     "text": "code_description - \n__________________________________________________\n",
     "output_type": "stream"
    },
    {
     "data": {
      "text/plain": "                                                    code_description\nФинансовые институты — снятие наличности автома...             27917\nФинансовые институты — снятие наличности вручную               18684\nЗвонки с использованием телефонов, считывающих ...             18641\nБакалейные магазины, супермаркеты                              18490\nДенежные переводы                                              11423",
      "text/html": "<div>\n<style scoped>\n    .dataframe tbody tr th:only-of-type {\n        vertical-align: middle;\n    }\n\n    .dataframe tbody tr th {\n        vertical-align: top;\n    }\n\n    .dataframe thead th {\n        text-align: right;\n    }\n</style>\n<table border=\"1\" class=\"dataframe\">\n  <thead>\n    <tr style=\"text-align: right;\">\n      <th></th>\n      <th>code_description</th>\n    </tr>\n  </thead>\n  <tbody>\n    <tr>\n      <th>Финансовые институты — снятие наличности автоматически</th>\n      <td>27917</td>\n    </tr>\n    <tr>\n      <th>Финансовые институты — снятие наличности вручную</th>\n      <td>18684</td>\n    </tr>\n    <tr>\n      <th>Звонки с использованием телефонов, считывающих магнитную ленту</th>\n      <td>18641</td>\n    </tr>\n    <tr>\n      <th>Бакалейные магазины, супермаркеты</th>\n      <td>18490</td>\n    </tr>\n    <tr>\n      <th>Денежные переводы</th>\n      <td>11423</td>\n    </tr>\n  </tbody>\n</table>\n</div>"
     },
     "metadata": {},
     "output_type": "display_data"
    },
    {
     "name": "stdout",
     "text": "type_description - \n__________________________________________________\n",
     "output_type": "stream"
    },
    {
     "data": {
      "application/vnd.deepnote.dataframe.v3+json": {
       "column_count": 1,
       "row_count": 5,
       "columns": [
        {
         "name": "type_description",
         "dtype": "int64",
         "stats": {
          "unique_count": 5,
          "nan_count": 0,
          "min": "6848",
          "max": "48450",
          "histogram": [
           {
            "bin_start": 6848,
            "bin_end": 11008.2,
            "count": 1
           },
           {
            "bin_start": 11008.2,
            "bin_end": 15168.4,
            "count": 1
           },
           {
            "bin_start": 15168.4,
            "bin_end": 19328.6,
            "count": 1
           },
           {
            "bin_start": 19328.6,
            "bin_end": 23488.8,
            "count": 1
           },
           {
            "bin_start": 23488.8,
            "bin_end": 27649,
            "count": 0
           },
           {
            "bin_start": 27649,
            "bin_end": 31809.199999999997,
            "count": 0
           },
           {
            "bin_start": 31809.199999999997,
            "bin_end": 35969.399999999994,
            "count": 0
           },
           {
            "bin_start": 35969.399999999994,
            "bin_end": 40129.6,
            "count": 0
           },
           {
            "bin_start": 40129.6,
            "bin_end": 44289.799999999996,
            "count": 0
           },
           {
            "bin_start": 44289.799999999996,
            "bin_end": 48450,
            "count": 1
           }
          ]
         }
        },
        {
         "name": "_deepnote_index_column",
         "dtype": "object"
        }
       ],
       "rows": [
        {
         "type_description": 48450,
         "_deepnote_index_column": "Покупка. POS "
        },
        {
         "type_description": 20204,
         "_deepnote_index_column": "Выдача наличных в АТМ"
        },
        {
         "type_description": 18368,
         "_deepnote_index_column": "Оплата услуги. Банкоматы"
        },
        {
         "type_description": 12915,
         "_deepnote_index_column": "Перевод на карту (с карты) через Мобильный банк (без взимания комиссии с отправителя)"
        },
        {
         "type_description": 6848,
         "_deepnote_index_column": "Списание с карты на карту по операции <перевода с карты на карту> через Мобильный банк (без комисси…"
        }
       ]
      },
      "text/plain": "                                                    type_description\nПокупка. POS                                                   48450\nВыдача наличных в АТМ                                          20204\nОплата услуги. Банкоматы                                       18368\nПеревод на карту (с карты) через Мобильный банк...             12915\nСписание с карты на карту по операции <перевода...              6848",
      "text/html": "<div>\n<style scoped>\n    .dataframe tbody tr th:only-of-type {\n        vertical-align: middle;\n    }\n\n    .dataframe tbody tr th {\n        vertical-align: top;\n    }\n\n    .dataframe thead th {\n        text-align: right;\n    }\n</style>\n<table border=\"1\" class=\"dataframe\">\n  <thead>\n    <tr style=\"text-align: right;\">\n      <th></th>\n      <th>type_description</th>\n    </tr>\n  </thead>\n  <tbody>\n    <tr>\n      <th>Покупка. POS</th>\n      <td>48450</td>\n    </tr>\n    <tr>\n      <th>Выдача наличных в АТМ</th>\n      <td>20204</td>\n    </tr>\n    <tr>\n      <th>Оплата услуги. Банкоматы</th>\n      <td>18368</td>\n    </tr>\n    <tr>\n      <th>Перевод на карту (с карты) через Мобильный банк (без взимания комиссии с отправителя)</th>\n      <td>12915</td>\n    </tr>\n    <tr>\n      <th>Списание с карты на карту по операции &lt;перевода с карты на карту&gt; через Мобильный банк (без комиссии)</th>\n      <td>6848</td>\n    </tr>\n  </tbody>\n</table>\n</div>"
     },
     "metadata": {},
     "output_type": "display_data"
    }
   ]
  },
  {
   "cell_type": "code",
   "metadata": {
    "cell_id": "00016-dc4ade72-5d75-459a-b874-5d19f50fcc9f",
    "deepnote_output_heights": [
     194
    ],
    "deepnote_to_be_reexecuted": false,
    "source_hash": "d4c04241",
    "execution_start": 1645108770463,
    "execution_millis": 13,
    "deepnote_cell_height": 325,
    "deepnote_cell_type": "code"
   },
   "source": "n = 10\ntype_desc = data['type_description'].value_counts().index.tolist()[:n]\ntype_desc",
   "execution_count": 18,
   "outputs": [
    {
     "output_type": "execute_result",
     "execution_count": 18,
     "data": {
      "text/plain": "['Покупка. POS ',\n 'Выдача наличных в АТМ',\n 'Оплата услуги. Банкоматы',\n 'Перевод на карту (с карты) через Мобильный банк (без взимания комиссии с отправителя)',\n 'Списание с карты на карту по операции <перевода с карты на карту> через Мобильный банк (без комиссии)',\n 'Взнос наличных через АТМ (в своем тер.банке)',\n 'Перевод на карту (с карты) через АТМ (в пределах одного тер.банка)',\n 'Покупка.',\n 'Покупка. Зарубеж. ',\n 'Перевод на карту (с карты) через Мобильный банк (с взиманием комиссии с отправителя)']"
     },
     "metadata": {}
    }
   ]
  },
  {
   "cell_type": "markdown",
   "source": "## 2.Explanatory data analysis. Exploring the features, visualizations etc.",
   "metadata": {
    "cell_id": "00017-d60be0d7-2b20-4dee-82c2-31f1a158b5f8",
    "deepnote_cell_height": 110,
    "deepnote_cell_type": "markdown"
   }
  },
  {
   "cell_type": "code",
   "metadata": {
    "cell_id": "00018-00ede751-30af-46fc-82ff-590d4fb38bcb",
    "deepnote_output_heights": [
     611
    ],
    "deepnote_to_be_reexecuted": false,
    "source_hash": "e1ffbdda",
    "execution_start": 1645108772369,
    "execution_millis": 1500,
    "deepnote_cell_height": 708,
    "deepnote_cell_type": "code"
   },
   "source": "data_num.hist(figsize=(14, 15), bins=40); ",
   "execution_count": 19,
   "outputs": [
    {
     "data": {
      "text/plain": "<Figure size 1008x1080 with 4 Axes>",
      "image/png": "[encoded data removed]"
     },
     "metadata": {
      "needs_background": "light",
      "image/png": {
       "width": 833,
       "height": 875
      }
     },
     "output_type": "display_data"
    }
   ]
  },
  {
   "cell_type": "code",
   "metadata": {
    "cell_id": "00019-01c876ff-6a5b-4229-a3ad-a2e926e1c709",
    "deepnote_output_heights": [
     577
    ],
    "deepnote_to_be_reexecuted": false,
    "source_hash": "f8ea06ee",
    "execution_start": 1645108774561,
    "execution_millis": 782,
    "deepnote_cell_height": 782,
    "deepnote_cell_type": "code"
   },
   "source": "corr = data.corr()\ng = sns.heatmap(corr,  vmax=.3, center=0,\n            square=True, linewidths=.5, cbar_kws={\"shrink\": .5}, annot=True, fmt='.2f', cmap='coolwarm')\nsns.despine()\ng.figure.set_size_inches(14,10)\n\nplt.show()",
   "execution_count": 20,
   "outputs": [
    {
     "data": {
      "text/plain": "<Figure size 1008x720 with 2 Axes>",
      "image/png": "[encoded data removed]"
     },
     "metadata": {
      "needs_background": "light",
      "image/png": {
       "width": 657,
       "height": 575
      }
     },
     "output_type": "display_data"
    }
   ]
  },
  {
   "cell_type": "code",
   "metadata": {
    "cell_id": "00020-a9f55bb3-ffe5-4f1f-8d59-2ba7d3c6e7d5",
    "deepnote_output_heights": [
     180.84375
    ],
    "deepnote_to_be_reexecuted": false,
    "source_hash": "4ba01193",
    "execution_start": 1645108776426,
    "execution_millis": 662,
    "deepnote_cell_height": 331.84375,
    "deepnote_cell_type": "code"
   },
   "source": "\ndata['code_description'].value_counts()[:20].plot(kind='barh')\n\nplt.show()",
   "execution_count": 21,
   "outputs": [
    {
     "data": {
      "text/plain": "<Figure size 432x288 with 1 Axes>",
      "image/png": "[encoded data removed]"
     },
     "metadata": {
      "needs_background": "light",
      "image/png": {
       "width": 1279,
       "height": 248
      }
     },
     "output_type": "display_data"
    }
   ]
  },
  {
   "cell_type": "code",
   "metadata": {
    "cell_id": "00021-ef9de72b-1a18-4b70-a278-a278730482d8",
    "deepnote_output_heights": [
     382.1875
    ],
    "deepnote_to_be_reexecuted": false,
    "source_hash": "2a35638c",
    "execution_start": 1645108779027,
    "execution_millis": 142,
    "deepnote_cell_height": 497.1875,
    "deepnote_cell_type": "code"
   },
   "source": "data['days'] = data.datetime.str[:-9]\ndata",
   "execution_count": 22,
   "outputs": [
    {
     "output_type": "execute_result",
     "execution_count": 22,
     "data": {
      "application/vnd.deepnote.dataframe.v3+json": {
       "column_count": 8,
       "row_count": 129998,
       "columns": [
        {
         "name": "client_id",
         "dtype": "int64"
        },
        {
         "name": "datetime",
         "dtype": "object"
        },
        {
         "name": "code",
         "dtype": "int64"
        },
        {
         "name": "type",
         "dtype": "int64"
        },
        {
         "name": "sum",
         "dtype": "float64"
        },
        {
         "name": "code_description",
         "dtype": "object"
        },
        {
         "name": "type_description",
         "dtype": "object"
        },
        {
         "name": "days",
         "dtype": "object"
        },
        {
         "name": "_deepnote_index_column",
         "dtype": "int64"
        }
       ],
       "rows": [
        {
         "client_id": 96372458,
         "datetime": "421 06:33:15",
         "code": 6011,
         "type": 2010,
         "sum": -561478.94,
         "code_description": "Финансовые институты — снятие наличности автоматически",
         "type_description": "Выдача наличных в АТМ",
         "days": "421",
         "_deepnote_index_column": 0
        },
        {
         "client_id": 24567813,
         "datetime": "377 17:20:40",
         "code": 6011,
         "type": 7010,
         "sum": 67377.47,
         "code_description": "Финансовые институты — снятие наличности автоматически",
         "type_description": "Взнос наличных через АТМ (в своем тер.банке)",
         "days": "377",
         "_deepnote_index_column": 1
        },
        {
         "client_id": 21717441,
         "datetime": "55 13:38:47",
         "code": 6011,
         "type": 2010,
         "sum": -44918.32,
         "code_description": "Финансовые институты — снятие наличности автоматически",
         "type_description": "Выдача наличных в АТМ",
         "days": "55",
         "_deepnote_index_column": 2
        },
        {
         "client_id": 14331004,
         "datetime": "263 12:57:08",
         "code": 6011,
         "type": 2010,
         "sum": -3368873.66,
         "code_description": "Финансовые институты — снятие наличности автоматически",
         "type_description": "Выдача наличных в АТМ",
         "days": "263",
         "_deepnote_index_column": 3
        },
        {
         "client_id": 85302434,
         "datetime": "151 10:34:12",
         "code": 4814,
         "type": 1030,
         "sum": -3368.87,
         "code_description": "Звонки с использованием телефонов, считывающих магнитную ленту",
         "type_description": "Оплата услуги. Банкоматы",
         "days": "151",
         "_deepnote_index_column": 4
        },
        {
         "client_id": 31421357,
         "datetime": "398 00:00:00",
         "code": 5411,
         "type": 1110,
         "sum": -1572.14,
         "code_description": "Бакалейные магазины, супермаркеты",
         "type_description": "Покупка. POS ",
         "days": "398",
         "_deepnote_index_column": 5
        },
        {
         "client_id": 84826852,
         "datetime": "423 15:27:55",
         "code": 6010,
         "type": 7070,
         "sum": 5654.99,
         "code_description": "Финансовые институты — снятие наличности вручную",
         "type_description": "Перевод на карту (с карты) через Мобильный банк (без взимания комиссии с отправителя)",
         "days": "423",
         "_deepnote_index_column": 6
        },
        {
         "client_id": 92322336,
         "datetime": "66 13:21:29",
         "code": 4814,
         "type": 1030,
         "sum": -4491.83,
         "code_description": "Звонки с использованием телефонов, считывающих магнитную ленту",
         "type_description": "Оплата услуги. Банкоматы",
         "days": "66",
         "_deepnote_index_column": 7
        },
        {
         "client_id": 91101111,
         "datetime": "346 11:06:20",
         "code": 4814,
         "type": 1030,
         "sum": -4491.83,
         "code_description": "Звонки с использованием телефонов, считывающих магнитную ленту",
         "type_description": "Оплата услуги. Банкоматы",
         "days": "346",
         "_deepnote_index_column": 8
        },
        {
         "client_id": 48933372,
         "datetime": "157 15:22:24",
         "code": 5921,
         "type": 1010,
         "sum": -7703.49,
         "code_description": "Магазины с продажей спиртных напитков на вынос (пиво, вино и ликер)",
         "type_description": "Покупка. POS ",
         "days": "157",
         "_deepnote_index_column": 9
        }
       ]
      },
      "text/plain": "        client_id      datetime  code  type         sum  \\\n0        96372458  421 06:33:15  6011  2010  -561478.94   \n1        24567813  377 17:20:40  6011  7010    67377.47   \n2        21717441   55 13:38:47  6011  2010   -44918.32   \n3        14331004  263 12:57:08  6011  2010 -3368873.66   \n4        85302434  151 10:34:12  4814  1030    -3368.87   \n...           ...           ...   ...   ...         ...   \n130034   15836839  147 11:50:53  5411  1010   -26344.59   \n130035   28369355  305 11:59:34  4829  2330   -24705.07   \n130036   40949707  398 21:13:58  5411  1110   -40353.72   \n130037    7174462  409 13:58:14  5411  1010   -25536.06   \n130038   92197764  319 00:00:00  5533  1110   -12127.95   \n\n                                         code_description  \\\n0       Финансовые институты — снятие наличности автом...   \n1       Финансовые институты — снятие наличности автом...   \n2       Финансовые институты — снятие наличности автом...   \n3       Финансовые институты — снятие наличности автом...   \n4       Звонки с использованием телефонов, считывающих...   \n...                                                   ...   \n130034                  Бакалейные магазины, супермаркеты   \n130035                                  Денежные переводы   \n130036                  Бакалейные магазины, супермаркеты   \n130037                  Бакалейные магазины, супермаркеты   \n130038                          Автозапчасти и аксессуары   \n\n                                         type_description days  \n0                                   Выдача наличных в АТМ  421  \n1            Взнос наличных через АТМ (в своем тер.банке)  377  \n2                                   Выдача наличных в АТМ   55  \n3                                   Выдача наличных в АТМ  263  \n4                                Оплата услуги. Банкоматы  151  \n...                                                   ...  ...  \n130034                                      Покупка. POS   147  \n130035  Списание с карты по операции “перевода с карты...  305  \n130036                                      Покупка. POS   398  \n130037                                      Покупка. POS   409  \n130038                                      Покупка. POS   319  \n\n[129998 rows x 8 columns]",
      "text/html": "<div>\n<style scoped>\n    .dataframe tbody tr th:only-of-type {\n        vertical-align: middle;\n    }\n\n    .dataframe tbody tr th {\n        vertical-align: top;\n    }\n\n    .dataframe thead th {\n        text-align: right;\n    }\n</style>\n<table border=\"1\" class=\"dataframe\">\n  <thead>\n    <tr style=\"text-align: right;\">\n      <th></th>\n      <th>client_id</th>\n      <th>datetime</th>\n      <th>code</th>\n      <th>type</th>\n      <th>sum</th>\n      <th>code_description</th>\n      <th>type_description</th>\n      <th>days</th>\n    </tr>\n  </thead>\n  <tbody>\n    <tr>\n      <th>0</th>\n      <td>96372458</td>\n      <td>421 06:33:15</td>\n      <td>6011</td>\n      <td>2010</td>\n      <td>-561478.94</td>\n      <td>Финансовые институты — снятие наличности автом...</td>\n      <td>Выдача наличных в АТМ</td>\n      <td>421</td>\n    </tr>\n    <tr>\n      <th>1</th>\n      <td>24567813</td>\n      <td>377 17:20:40</td>\n      <td>6011</td>\n      <td>7010</td>\n      <td>67377.47</td>\n      <td>Финансовые институты — снятие наличности автом...</td>\n      <td>Взнос наличных через АТМ (в своем тер.банке)</td>\n      <td>377</td>\n    </tr>\n    <tr>\n      <th>2</th>\n      <td>21717441</td>\n      <td>55 13:38:47</td>\n      <td>6011</td>\n      <td>2010</td>\n      <td>-44918.32</td>\n      <td>Финансовые институты — снятие наличности автом...</td>\n      <td>Выдача наличных в АТМ</td>\n      <td>55</td>\n    </tr>\n    <tr>\n      <th>3</th>\n      <td>14331004</td>\n      <td>263 12:57:08</td>\n      <td>6011</td>\n      <td>2010</td>\n      <td>-3368873.66</td>\n      <td>Финансовые институты — снятие наличности автом...</td>\n      <td>Выдача наличных в АТМ</td>\n      <td>263</td>\n    </tr>\n    <tr>\n      <th>4</th>\n      <td>85302434</td>\n      <td>151 10:34:12</td>\n      <td>4814</td>\n      <td>1030</td>\n      <td>-3368.87</td>\n      <td>Звонки с использованием телефонов, считывающих...</td>\n      <td>Оплата услуги. Банкоматы</td>\n      <td>151</td>\n    </tr>\n    <tr>\n      <th>...</th>\n      <td>...</td>\n      <td>...</td>\n      <td>...</td>\n      <td>...</td>\n      <td>...</td>\n      <td>...</td>\n      <td>...</td>\n      <td>...</td>\n    </tr>\n    <tr>\n      <th>130034</th>\n      <td>15836839</td>\n      <td>147 11:50:53</td>\n      <td>5411</td>\n      <td>1010</td>\n      <td>-26344.59</td>\n      <td>Бакалейные магазины, супермаркеты</td>\n      <td>Покупка. POS</td>\n      <td>147</td>\n    </tr>\n    <tr>\n      <th>130035</th>\n      <td>28369355</td>\n      <td>305 11:59:34</td>\n      <td>4829</td>\n      <td>2330</td>\n      <td>-24705.07</td>\n      <td>Денежные переводы</td>\n      <td>Списание с карты по операции “перевода с карты...</td>\n      <td>305</td>\n    </tr>\n    <tr>\n      <th>130036</th>\n      <td>40949707</td>\n      <td>398 21:13:58</td>\n      <td>5411</td>\n      <td>1110</td>\n      <td>-40353.72</td>\n      <td>Бакалейные магазины, супермаркеты</td>\n      <td>Покупка. POS</td>\n      <td>398</td>\n    </tr>\n    <tr>\n      <th>130037</th>\n      <td>7174462</td>\n      <td>409 13:58:14</td>\n      <td>5411</td>\n      <td>1010</td>\n      <td>-25536.06</td>\n      <td>Бакалейные магазины, супермаркеты</td>\n      <td>Покупка. POS</td>\n      <td>409</td>\n    </tr>\n    <tr>\n      <th>130038</th>\n      <td>92197764</td>\n      <td>319 00:00:00</td>\n      <td>5533</td>\n      <td>1110</td>\n      <td>-12127.95</td>\n      <td>Автозапчасти и аксессуары</td>\n      <td>Покупка. POS</td>\n      <td>319</td>\n    </tr>\n  </tbody>\n</table>\n<p>129998 rows × 8 columns</p>\n</div>"
     },
     "metadata": {}
    }
   ]
  },
  {
   "cell_type": "code",
   "metadata": {
    "cell_id": "00022-7e8b1103-a21e-4c4d-b311-c3f41bfb2b63",
    "deepnote_output_heights": [
     250
    ],
    "deepnote_to_be_reexecuted": false,
    "source_hash": "77c34caf",
    "execution_start": 1645108780641,
    "execution_millis": 357,
    "deepnote_cell_height": 419,
    "deepnote_cell_type": "code"
   },
   "source": "x = data['days'].value_counts()[:100]\ny = data['code'].value_counts()[:100]\nplt.plot(x,y)\nplt.show()\n",
   "execution_count": 23,
   "outputs": [
    {
     "data": {
      "text/plain": "<Figure size 432x288 with 1 Axes>",
      "image/png": "[encoded data removed]"
     },
     "metadata": {
      "needs_background": "light",
      "image/png": {
       "width": 387,
       "height": 248
      }
     },
     "output_type": "display_data"
    }
   ]
  },
  {
   "cell_type": "code",
   "metadata": {
    "cell_id": "00024-a27f8f03-2514-460d-89e7-6d8268e5d664",
    "deepnote_to_be_reexecuted": false,
    "source_hash": "eb91d47e",
    "execution_start": 1645108784938,
    "execution_millis": 11,
    "deepnote_cell_height": 84,
    "deepnote_cell_type": "code"
   },
   "source": "z = data[data['sum']<0]\nprint(z)",
   "execution_count": 24,
   "outputs": [
    {
     "name": "stdout",
     "text": "        client_id      datetime  code  type         sum  \\\n0        96372458  421 06:33:15  6011  2010  -561478.94   \n2        21717441   55 13:38:47  6011  2010   -44918.32   \n3        14331004  263 12:57:08  6011  2010 -3368873.66   \n4        85302434  151 10:34:12  4814  1030    -3368.87   \n5        31421357  398 00:00:00  5411  1110    -1572.14   \n...           ...           ...   ...   ...         ...   \n130034   15836839  147 11:50:53  5411  1010   -26344.59   \n130035   28369355  305 11:59:34  4829  2330   -24705.07   \n130036   40949707  398 21:13:58  5411  1110   -40353.72   \n130037    7174462  409 13:58:14  5411  1010   -25536.06   \n130038   92197764  319 00:00:00  5533  1110   -12127.95   \n\n                                         code_description  \\\n0       Финансовые институты — снятие наличности автом...   \n2       Финансовые институты — снятие наличности автом...   \n3       Финансовые институты — снятие наличности автом...   \n4       Звонки с использованием телефонов, считывающих...   \n5                       Бакалейные магазины, супермаркеты   \n...                                                   ...   \n130034                  Бакалейные магазины, супермаркеты   \n130035                                  Денежные переводы   \n130036                  Бакалейные магазины, супермаркеты   \n130037                  Бакалейные магазины, супермаркеты   \n130038                          Автозапчасти и аксессуары   \n\n                                         type_description days  \n0                                   Выдача наличных в АТМ  421  \n2                                   Выдача наличных в АТМ   55  \n3                                   Выдача наличных в АТМ  263  \n4                                Оплата услуги. Банкоматы  151  \n5                                           Покупка. POS   398  \n...                                                   ...  ...  \n130034                                      Покупка. POS   147  \n130035  Списание с карты по операции “перевода с карты...  305  \n130036                                      Покупка. POS   398  \n130037                                      Покупка. POS   409  \n130038                                      Покупка. POS   319  \n\n[105687 rows x 8 columns]\n",
     "output_type": "stream"
    }
   ]
  },
  {
   "cell_type": "code",
   "metadata": {
    "cell_id": "00025-ed3da64e-70c1-472a-804b-d648600ef3f3",
    "deepnote_output_heights": [
     21.1875
    ],
    "deepnote_to_be_reexecuted": false,
    "source_hash": "cddda0fc",
    "execution_start": 1645108787475,
    "execution_millis": 6,
    "deepnote_cell_height": 118.1875,
    "deepnote_cell_type": "code"
   },
   "source": "z.shape[0]",
   "execution_count": 25,
   "outputs": [
    {
     "output_type": "execute_result",
     "execution_count": 25,
     "data": {
      "text/plain": "105687"
     },
     "metadata": {}
    }
   ]
  },
  {
   "cell_type": "code",
   "metadata": {
    "cell_id": "00026-be68443b-5c03-4b0f-89ff-cacbbf01ff65",
    "deepnote_to_be_reexecuted": false,
    "source_hash": "7cd612d7",
    "execution_start": 1645108788693,
    "execution_millis": 27,
    "deepnote_cell_height": 84,
    "deepnote_cell_type": "code"
   },
   "source": "y = data[data['sum']>0]\nprint(y)",
   "execution_count": 26,
   "outputs": [
    {
     "name": "stdout",
     "text": "        client_id      datetime  code  type        sum  \\\n1        24567813  377 17:20:40  6011  7010   67377.47   \n6        84826852  423 15:27:55  6010  7070    5654.99   \n12       70780820  376 02:35:38  6010  7070    4693.96   \n13        5009599  165 21:14:11  6010  7070   11678.76   \n14       29041434  335 11:33:49  6010  7030    7276.77   \n...           ...           ...   ...   ...        ...   \n130011   82763536  102 00:00:00  5964  6200    5904.29   \n130023   68955791  410 19:21:00  6010  7070    8983.66   \n130024   57224158  347 14:26:19  6010  7070    8534.48   \n130028   14837954  381 11:50:57  6011  7010  134754.95   \n130033   57224158  380 13:52:15  6010  7030    7186.93   \n\n                                         code_description  \\\n1       Финансовые институты — снятие наличности автом...   \n6        Финансовые институты — снятие наличности вручную   \n12       Финансовые институты — снятие наличности вручную   \n13       Финансовые институты — снятие наличности вручную   \n14       Финансовые институты — снятие наличности вручную   \n...                                                   ...   \n130011          Прямой маркетинг — торговля через каталог   \n130023   Финансовые институты — снятие наличности вручную   \n130024   Финансовые институты — снятие наличности вручную   \n130028  Финансовые институты — снятие наличности автом...   \n130033   Финансовые институты — снятие наличности вручную   \n\n                                         type_description days  \n1            Взнос наличных через АТМ (в своем тер.банке)  377  \n6       Перевод на карту (с карты) через Мобильный бан...  423  \n12      Перевод на карту (с карты) через Мобильный бан...  376  \n13      Перевод на карту (с карты) через Мобильный бан...  165  \n14      Перевод на карту (с карты) через АТМ (в предел...  335  \n...                                                   ...  ...  \n130011                         Возврат  покупки. Зарубеж.  102  \n130023  Перевод на карту (с карты) через Мобильный бан...  410  \n130024  Перевод на карту (с карты) через Мобильный бан...  347  \n130028       Взнос наличных через АТМ (в своем тер.банке)  381  \n130033  Перевод на карту (с карты) через АТМ (в предел...  380  \n\n[24311 rows x 8 columns]\n",
     "output_type": "stream"
    }
   ]
  },
  {
   "cell_type": "code",
   "metadata": {
    "cell_id": "00027-8e0f5dd3-ac65-48c5-8e93-d08afeeb263f",
    "deepnote_output_heights": [
     21.1875
    ],
    "deepnote_to_be_reexecuted": false,
    "source_hash": "940eb2f3",
    "execution_start": 1645108791232,
    "execution_millis": 2,
    "deepnote_cell_height": 118.1875,
    "deepnote_cell_type": "code"
   },
   "source": "y.shape[0]",
   "execution_count": 27,
   "outputs": [
    {
     "output_type": "execute_result",
     "execution_count": 27,
     "data": {
      "text/plain": "24311"
     },
     "metadata": {}
    }
   ]
  },
  {
   "cell_type": "code",
   "metadata": {
    "cell_id": "00028-75bb9318-fdda-4b3d-be35-a2cafa5c5df9",
    "deepnote_output_heights": [
     304
    ],
    "deepnote_to_be_reexecuted": false,
    "source_hash": "101fe06",
    "execution_start": 1645108795887,
    "execution_millis": 143,
    "deepnote_cell_height": 509,
    "deepnote_cell_type": "code"
   },
   "source": "fig = plt.figure()\nax = fig.add_axes([0,0,1,1])\nax.axis('equal')\ngender = [z.shape[0],y.shape[0]]\ncount_gender = [z.shape[0],y.shape[0]]\nax.pie(count_gender,autopct='%1.2f%%')\nplt.show()",
   "execution_count": 28,
   "outputs": [
    {
     "data": {
      "text/plain": "<Figure size 432x288 with 1 Axes>",
      "image/png": "[encoded data removed]"
     },
     "metadata": {
      "image/png": {
       "width": 446,
       "height": 302
      }
     },
     "output_type": "display_data"
    }
   ]
  },
  {
   "cell_type": "markdown",
   "source": "### Feature Scaling",
   "metadata": {
    "cell_id": "65455e9e-0f30-4633-9a5a-829b6b52c062",
    "tags": [],
    "deepnote_cell_height": 62,
    "deepnote_cell_type": "markdown"
   }
  },
  {
   "cell_type": "code",
   "metadata": {
    "cell_id": "5915e900-86a5-4314-968a-4f70ca0d859c",
    "tags": [],
    "deepnote_to_be_reexecuted": false,
    "source_hash": "839fb631",
    "execution_start": 1645108798120,
    "execution_millis": 381,
    "deepnote_cell_height": 138,
    "deepnote_cell_type": "code"
   },
   "source": "y = data['sum']\nprint(y)\n\nx = data.drop('sum', axis=1)\nx.head()",
   "execution_count": 29,
   "outputs": [
    {
     "name": "stdout",
     "text": "0         -561478.94\n1           67377.47\n2          -44918.32\n3        -3368873.66\n4           -3368.87\n             ...    \n130034     -26344.59\n130035     -24705.07\n130036     -40353.72\n130037     -25536.06\n130038     -12127.95\nName: sum, Length: 129998, dtype: float64\n",
     "output_type": "stream"
    },
    {
     "output_type": "execute_result",
     "execution_count": 29,
     "data": {
      "application/vnd.deepnote.dataframe.v3+json": {
       "column_count": 7,
       "row_count": 5,
       "columns": [
        {
         "name": "client_id",
         "dtype": "int64",
         "stats": {
          "unique_count": 5,
          "nan_count": 0,
          "min": "14331004",
          "max": "96372458",
          "histogram": [
           {
            "bin_start": 14331004,
            "bin_end": 22535149.4,
            "count": 2
           },
           {
            "bin_start": 22535149.4,
            "bin_end": 30739294.8,
            "count": 1
           },
           {
            "bin_start": 30739294.8,
            "bin_end": 38943440.2,
            "count": 0
           },
           {
            "bin_start": 38943440.2,
            "bin_end": 47147585.6,
            "count": 0
           },
           {
            "bin_start": 47147585.6,
            "bin_end": 55351731,
            "count": 0
           },
           {
            "bin_start": 55351731,
            "bin_end": 63555876.400000006,
            "count": 0
           },
           {
            "bin_start": 63555876.400000006,
            "bin_end": 71760021.80000001,
            "count": 0
           },
           {
            "bin_start": 71760021.80000001,
            "bin_end": 79964167.2,
            "count": 0
           },
           {
            "bin_start": 79964167.2,
            "bin_end": 88168312.60000001,
            "count": 1
           },
           {
            "bin_start": 88168312.60000001,
            "bin_end": 96372458,
            "count": 1
           }
          ]
         }
        },
        {
         "name": "datetime",
         "dtype": "object",
         "stats": {
          "unique_count": 5,
          "nan_count": 0,
          "categories": [
           {
            "name": "421 06:33:15",
            "count": 1
           },
           {
            "name": "377 17:20:40",
            "count": 1
           },
           {
            "name": "3 others",
            "count": 3
           }
          ]
         }
        },
        {
         "name": "code",
         "dtype": "int64",
         "stats": {
          "unique_count": 2,
          "nan_count": 0,
          "min": "4814",
          "max": "6011",
          "histogram": [
           {
            "bin_start": 4814,
            "bin_end": 4933.7,
            "count": 1
           },
           {
            "bin_start": 4933.7,
            "bin_end": 5053.4,
            "count": 0
           },
           {
            "bin_start": 5053.4,
            "bin_end": 5173.1,
            "count": 0
           },
           {
            "bin_start": 5173.1,
            "bin_end": 5292.8,
            "count": 0
           },
           {
            "bin_start": 5292.8,
            "bin_end": 5412.5,
            "count": 0
           },
           {
            "bin_start": 5412.5,
            "bin_end": 5532.2,
            "count": 0
           },
           {
            "bin_start": 5532.2,
            "bin_end": 5651.9,
            "count": 0
           },
           {
            "bin_start": 5651.9,
            "bin_end": 5771.6,
            "count": 0
           },
           {
            "bin_start": 5771.6,
            "bin_end": 5891.3,
            "count": 0
           },
           {
            "bin_start": 5891.3,
            "bin_end": 6011,
            "count": 4
           }
          ]
         }
        },
        {
         "name": "type",
         "dtype": "int64",
         "stats": {
          "unique_count": 3,
          "nan_count": 0,
          "min": "1030",
          "max": "7010",
          "histogram": [
           {
            "bin_start": 1030,
            "bin_end": 1628,
            "count": 1
           },
           {
            "bin_start": 1628,
            "bin_end": 2226,
            "count": 3
           },
           {
            "bin_start": 2226,
            "bin_end": 2824,
            "count": 0
           },
           {
            "bin_start": 2824,
            "bin_end": 3422,
            "count": 0
           },
           {
            "bin_start": 3422,
            "bin_end": 4020,
            "count": 0
           },
           {
            "bin_start": 4020,
            "bin_end": 4618,
            "count": 0
           },
           {
            "bin_start": 4618,
            "bin_end": 5216,
            "count": 0
           },
           {
            "bin_start": 5216,
            "bin_end": 5814,
            "count": 0
           },
           {
            "bin_start": 5814,
            "bin_end": 6412,
            "count": 0
           },
           {
            "bin_start": 6412,
            "bin_end": 7010,
            "count": 1
           }
          ]
         }
        },
        {
         "name": "code_description",
         "dtype": "object",
         "stats": {
          "unique_count": 2,
          "nan_count": 0,
          "categories": [
           {
            "name": "Финансовые институты — снятие наличности автоматически",
            "count": 4
           },
           {
            "name": "Звонки с использованием телефонов, считывающих магнитную ленту",
            "count": 1
           }
          ]
         }
        },
        {
         "name": "type_description",
         "dtype": "object",
         "stats": {
          "unique_count": 3,
          "nan_count": 0,
          "categories": [
           {
            "name": "Выдача наличных в АТМ",
            "count": 3
           },
           {
            "name": "Взнос наличных через АТМ (в своем тер.банке)",
            "count": 1
           },
           {
            "name": "Оплата услуги. Банкоматы",
            "count": 1
           }
          ]
         }
        },
        {
         "name": "days",
         "dtype": "object",
         "stats": {
          "unique_count": 5,
          "nan_count": 0,
          "categories": [
           {
            "name": "421",
            "count": 1
           },
           {
            "name": "377",
            "count": 1
           },
           {
            "name": "3 others",
            "count": 3
           }
          ]
         }
        },
        {
         "name": "_deepnote_index_column",
         "dtype": "int64"
        }
       ],
       "rows": [
        {
         "client_id": 96372458,
         "datetime": "421 06:33:15",
         "code": 6011,
         "type": 2010,
         "code_description": "Финансовые институты — снятие наличности автоматически",
         "type_description": "Выдача наличных в АТМ",
         "days": "421",
         "_deepnote_index_column": 0
        },
        {
         "client_id": 24567813,
         "datetime": "377 17:20:40",
         "code": 6011,
         "type": 7010,
         "code_description": "Финансовые институты — снятие наличности автоматически",
         "type_description": "Взнос наличных через АТМ (в своем тер.банке)",
         "days": "377",
         "_deepnote_index_column": 1
        },
        {
         "client_id": 21717441,
         "datetime": "55 13:38:47",
         "code": 6011,
         "type": 2010,
         "code_description": "Финансовые институты — снятие наличности автоматически",
         "type_description": "Выдача наличных в АТМ",
         "days": "55",
         "_deepnote_index_column": 2
        },
        {
         "client_id": 14331004,
         "datetime": "263 12:57:08",
         "code": 6011,
         "type": 2010,
         "code_description": "Финансовые институты — снятие наличности автоматически",
         "type_description": "Выдача наличных в АТМ",
         "days": "263",
         "_deepnote_index_column": 3
        },
        {
         "client_id": 85302434,
         "datetime": "151 10:34:12",
         "code": 4814,
         "type": 1030,
         "code_description": "Звонки с использованием телефонов, считывающих магнитную ленту",
         "type_description": "Оплата услуги. Банкоматы",
         "days": "151",
         "_deepnote_index_column": 4
        }
       ]
      },
      "text/plain": "   client_id      datetime  code  type  \\\n0   96372458  421 06:33:15  6011  2010   \n1   24567813  377 17:20:40  6011  7010   \n2   21717441   55 13:38:47  6011  2010   \n3   14331004  263 12:57:08  6011  2010   \n4   85302434  151 10:34:12  4814  1030   \n\n                                    code_description  \\\n0  Финансовые институты — снятие наличности автом...   \n1  Финансовые институты — снятие наличности автом...   \n2  Финансовые институты — снятие наличности автом...   \n3  Финансовые институты — снятие наличности автом...   \n4  Звонки с использованием телефонов, считывающих...   \n\n                               type_description days  \n0                         Выдача наличных в АТМ  421  \n1  Взнос наличных через АТМ (в своем тер.банке)  377  \n2                         Выдача наличных в АТМ   55  \n3                         Выдача наличных в АТМ  263  \n4                      Оплата услуги. Банкоматы  151  ",
      "text/html": "<div>\n<style scoped>\n    .dataframe tbody tr th:only-of-type {\n        vertical-align: middle;\n    }\n\n    .dataframe tbody tr th {\n        vertical-align: top;\n    }\n\n    .dataframe thead th {\n        text-align: right;\n    }\n</style>\n<table border=\"1\" class=\"dataframe\">\n  <thead>\n    <tr style=\"text-align: right;\">\n      <th></th>\n      <th>client_id</th>\n      <th>datetime</th>\n      <th>code</th>\n      <th>type</th>\n      <th>code_description</th>\n      <th>type_description</th>\n      <th>days</th>\n    </tr>\n  </thead>\n  <tbody>\n    <tr>\n      <th>0</th>\n      <td>96372458</td>\n      <td>421 06:33:15</td>\n      <td>6011</td>\n      <td>2010</td>\n      <td>Финансовые институты — снятие наличности автом...</td>\n      <td>Выдача наличных в АТМ</td>\n      <td>421</td>\n    </tr>\n    <tr>\n      <th>1</th>\n      <td>24567813</td>\n      <td>377 17:20:40</td>\n      <td>6011</td>\n      <td>7010</td>\n      <td>Финансовые институты — снятие наличности автом...</td>\n      <td>Взнос наличных через АТМ (в своем тер.банке)</td>\n      <td>377</td>\n    </tr>\n    <tr>\n      <th>2</th>\n      <td>21717441</td>\n      <td>55 13:38:47</td>\n      <td>6011</td>\n      <td>2010</td>\n      <td>Финансовые институты — снятие наличности автом...</td>\n      <td>Выдача наличных в АТМ</td>\n      <td>55</td>\n    </tr>\n    <tr>\n      <th>3</th>\n      <td>14331004</td>\n      <td>263 12:57:08</td>\n      <td>6011</td>\n      <td>2010</td>\n      <td>Финансовые институты — снятие наличности автом...</td>\n      <td>Выдача наличных в АТМ</td>\n      <td>263</td>\n    </tr>\n    <tr>\n      <th>4</th>\n      <td>85302434</td>\n      <td>151 10:34:12</td>\n      <td>4814</td>\n      <td>1030</td>\n      <td>Звонки с использованием телефонов, считывающих...</td>\n      <td>Оплата услуги. Банкоматы</td>\n      <td>151</td>\n    </tr>\n  </tbody>\n</table>\n</div>"
     },
     "metadata": {}
    }
   ]
  },
  {
   "cell_type": "code",
   "metadata": {
    "cell_id": "17270bb6-7f6a-43e2-a59f-7afe52a4f148",
    "tags": [],
    "deepnote_to_be_reexecuted": false,
    "source_hash": "5b2966c9",
    "execution_start": 1645108808649,
    "execution_millis": 851,
    "deepnote_output_heights": [
     232.25
    ],
    "deepnote_cell_height": 527.25,
    "deepnote_cell_type": "code"
   },
   "source": "from sklearn.model_selection import train_test_split\nfrom sklearn.preprocessing import LabelEncoder\n\nx = x.apply(LabelEncoder().fit_transform)\n\n\n\nx_train,x_test,y_train,y_test=train_test_split(x,y)\n\nprint(y)\n\n",
   "execution_count": 30,
   "outputs": [
    {
     "name": "stdout",
     "text": "0         -561478.94\n1           67377.47\n2          -44918.32\n3        -3368873.66\n4           -3368.87\n             ...    \n130034     -26344.59\n130035     -24705.07\n130036     -40353.72\n130037     -25536.06\n130038     -12127.95\nName: sum, Length: 129998, dtype: float64\n",
     "output_type": "stream"
    }
   ]
  },
  {
   "cell_type": "code",
   "metadata": {
    "cell_id": "00029-f931cce4-27ba-4ad2-98f7-1d3d6369d940",
    "deepnote_to_be_reexecuted": false,
    "source_hash": "14b4b58d",
    "execution_start": 1645108813108,
    "execution_millis": 640,
    "deepnote_output_heights": [
     21.1875,
     263
    ],
    "deepnote_cell_height": 682.1875,
    "deepnote_cell_type": "code"
   },
   "source": "from sklearn.linear_model import LinearRegression\nfrom sklearn.metrics import accuracy_score\nfrom sklearn.preprocessing import StandardScaler\n\nmodel = LinearRegression()\nss = StandardScaler()\n\n\n\nmodel.fit(x_train, y_train)\n\n\n\ny_train_pred=model.predict(x_test)\nplt.scatter(y_test, y_train_pred)\n",
   "execution_count": 31,
   "outputs": [
    {
     "output_type": "execute_result",
     "execution_count": 31,
     "data": {
      "text/plain": "<matplotlib.collections.PathCollection at 0x7fb02be3f450>"
     },
     "metadata": {}
    },
    {
     "data": {
      "text/plain": "<Figure size 432x288 with 1 Axes>",
      "image/png": "[encoded data removed]"
     },
     "metadata": {
      "needs_background": "light",
      "image/png": {
       "width": 402,
       "height": 261
      }
     },
     "output_type": "display_data"
    }
   ]
  },
  {
   "cell_type": "code",
   "metadata": {
    "cell_id": "ed63ab4d-3a41-49ba-9084-28c025b95a37",
    "tags": [],
    "deepnote_to_be_reexecuted": false,
    "source_hash": "8d1f19b6",
    "execution_start": 1645108817376,
    "execution_millis": 602,
    "deepnote_cell_height": 156,
    "deepnote_cell_type": "code"
   },
   "source": "from sklearn.cluster import KMeans\nfrom sklearn.metrics import silhouette_score\nsc = LabelEncoder()\n\nx_train_std=ss.fit_transform(x_train)\nx_test_std=ss.fit_transform(x_test)",
   "execution_count": 32,
   "outputs": []
  },
  {
   "cell_type": "markdown",
   "source": "### Model Building\n\n\n#### K-means",
   "metadata": {
    "cell_id": "aed981c9-46ad-4952-aeae-a5951b08e472",
    "tags": [],
    "deepnote_cell_height": 102,
    "deepnote_cell_type": "markdown"
   }
  },
  {
   "cell_type": "code",
   "metadata": {
    "cell_id": "9f56787a-1f0b-4c7f-9e47-99b0f5184d18",
    "tags": [],
    "deepnote_to_be_reexecuted": false,
    "source_hash": "cc174205",
    "execution_start": 1645112838378,
    "execution_millis": 839,
    "deepnote_output_heights": [
     232.390625,
     21.1875,
     354
    ],
    "deepnote_cell_height": 784.578125,
    "deepnote_cell_type": "code"
   },
   "source": "print(data.groupby(\"target\").count().rename(columns={\"client_id\": \"counts\"}).counts)\nsns.displot(data[\"target\"])",
   "execution_count": 58,
   "outputs": [
    {
     "name": "stdout",
     "text": "target\n0.0    46715\n1.0    45111\nName: counts, dtype: int64\n",
     "output_type": "stream"
    },
    {
     "output_type": "execute_result",
     "execution_count": 58,
     "data": {
      "text/plain": "<seaborn.axisgrid.FacetGrid at 0x7fb02804eb50>"
     },
     "metadata": {}
    },
    {
     "data": {
      "text/plain": "<Figure size 360x360 with 1 Axes>",
      "image/png": "[encoded data removed]"
     },
     "metadata": {
      "needs_background": "light",
      "image/png": {
       "width": 352,
       "height": 352
      }
     },
     "output_type": "display_data"
    }
   ]
  },
  {
   "cell_type": "code",
   "metadata": {
    "cell_id": "d983fa94-ca7c-400b-aff1-b57ded463820",
    "tags": [],
    "deepnote_to_be_reexecuted": false,
    "source_hash": "518ae6f9",
    "execution_start": 1645112857738,
    "execution_millis": 1308,
    "deepnote_output_heights": [
     232.390625
    ],
    "deepnote_cell_height": 509.390625,
    "deepnote_cell_type": "code"
   },
   "source": "x[[\"day\", \"time\"]] = x[\"datetime\"].str.split(' ', 0, expand=True)\nx[[\"hours\", \"minute\", \"seconds\"]] = x[\"time\"].str.split(':', 0, expand=True)\nx.day = x.day.astype(int)\nx.hours = x.hours.astype(int)\nx.minute = x.minute.astype(int)\nx.seconds = x.seconds.astype(int)\nx.target = x.target.astype(int)\nx[\"weekday\"] = x.day % 7\nx = x.drop(columns=[\"datetime\", \"time\"])\nprint(x.dtypes)\nx.head()",
   "execution_count": 60,
   "outputs": [
    {
     "name": "stdout",
     "text": "client_id      int64\ncode           int64\ntype           int64\nsum          float64\ntarget         int64\nday            int64\nhours          int64\nminute         int64\nseconds        int64\nweekday        int64\ndtype: object\n",
     "output_type": "stream"
    },
    {
     "output_type": "execute_result",
     "execution_count": 60,
     "data": {
      "application/vnd.deepnote.dataframe.v3+json": {
       "column_count": 10,
       "row_count": 5,
       "columns": [
        {
         "name": "client_id",
         "dtype": "int64",
         "stats": {
          "unique_count": 1,
          "nan_count": 0,
          "min": "22899",
          "max": "22899",
          "histogram": [
           {
            "bin_start": 22898.5,
            "bin_end": 22898.6,
            "count": 0
           },
           {
            "bin_start": 22898.6,
            "bin_end": 22898.7,
            "count": 0
           },
           {
            "bin_start": 22898.7,
            "bin_end": 22898.8,
            "count": 0
           },
           {
            "bin_start": 22898.8,
            "bin_end": 22898.9,
            "count": 0
           },
           {
            "bin_start": 22898.9,
            "bin_end": 22899,
            "count": 0
           },
           {
            "bin_start": 22899,
            "bin_end": 22899.1,
            "count": 5
           },
           {
            "bin_start": 22899.1,
            "bin_end": 22899.2,
            "count": 0
           },
           {
            "bin_start": 22899.2,
            "bin_end": 22899.3,
            "count": 0
           },
           {
            "bin_start": 22899.3,
            "bin_end": 22899.4,
            "count": 0
           },
           {
            "bin_start": 22899.4,
            "bin_end": 22899.5,
            "count": 0
           }
          ]
         }
        },
        {
         "name": "code",
         "dtype": "int64",
         "stats": {
          "unique_count": 3,
          "nan_count": 0,
          "min": "4814",
          "max": "6011",
          "histogram": [
           {
            "bin_start": 4814,
            "bin_end": 4933.7,
            "count": 1
           },
           {
            "bin_start": 4933.7,
            "bin_end": 5053.4,
            "count": 0
           },
           {
            "bin_start": 5053.4,
            "bin_end": 5173.1,
            "count": 0
           },
           {
            "bin_start": 5173.1,
            "bin_end": 5292.8,
            "count": 0
           },
           {
            "bin_start": 5292.8,
            "bin_end": 5412.5,
            "count": 1
           },
           {
            "bin_start": 5412.5,
            "bin_end": 5532.2,
            "count": 0
           },
           {
            "bin_start": 5532.2,
            "bin_end": 5651.9,
            "count": 0
           },
           {
            "bin_start": 5651.9,
            "bin_end": 5771.6,
            "count": 0
           },
           {
            "bin_start": 5771.6,
            "bin_end": 5891.3,
            "count": 0
           },
           {
            "bin_start": 5891.3,
            "bin_end": 6011,
            "count": 3
           }
          ]
         }
        },
        {
         "name": "type",
         "dtype": "int64",
         "stats": {
          "unique_count": 4,
          "nan_count": 0,
          "min": "1030",
          "max": "4010",
          "histogram": [
           {
            "bin_start": 1030,
            "bin_end": 1328,
            "count": 2
           },
           {
            "bin_start": 1328,
            "bin_end": 1626,
            "count": 0
           },
           {
            "bin_start": 1626,
            "bin_end": 1924,
            "count": 0
           },
           {
            "bin_start": 1924,
            "bin_end": 2222,
            "count": 1
           },
           {
            "bin_start": 2222,
            "bin_end": 2520,
            "count": 0
           },
           {
            "bin_start": 2520,
            "bin_end": 2818,
            "count": 0
           },
           {
            "bin_start": 2818,
            "bin_end": 3116,
            "count": 0
           },
           {
            "bin_start": 3116,
            "bin_end": 3414,
            "count": 0
           },
           {
            "bin_start": 3414,
            "bin_end": 3712,
            "count": 0
           },
           {
            "bin_start": 3712,
            "bin_end": 4010,
            "count": 2
           }
          ]
         }
        },
        {
         "name": "sum",
         "dtype": "float64",
         "stats": {
          "unique_count": 4,
          "nan_count": 0,
          "min": "-8759.07",
          "max": "-1122.96",
          "histogram": [
           {
            "bin_start": -8759.07,
            "bin_end": -7995.459,
            "count": 2
           },
           {
            "bin_start": -7995.459,
            "bin_end": -7231.848,
            "count": 0
           },
           {
            "bin_start": -7231.848,
            "bin_end": -6468.236999999999,
            "count": 1
           },
           {
            "bin_start": -6468.236999999999,
            "bin_end": -5704.626,
            "count": 0
           },
           {
            "bin_start": -5704.626,
            "bin_end": -4941.014999999999,
            "count": 0
           },
           {
            "bin_start": -4941.014999999999,
            "bin_end": -4177.4039999999995,
            "count": 1
           },
           {
            "bin_start": -4177.4039999999995,
            "bin_end": -3413.7929999999997,
            "count": 0
           },
           {
            "bin_start": -3413.7929999999997,
            "bin_end": -2650.182,
            "count": 0
           },
           {
            "bin_start": -2650.182,
            "bin_end": -1886.571,
            "count": 0
           },
           {
            "bin_start": -1886.571,
            "bin_end": -1122.96,
            "count": 1
           }
          ]
         }
        },
        {
         "name": "target",
         "dtype": "int64",
         "stats": {
          "unique_count": 1,
          "nan_count": 0,
          "min": "1",
          "max": "1",
          "histogram": [
           {
            "bin_start": 0.5,
            "bin_end": 0.6,
            "count": 0
           },
           {
            "bin_start": 0.6,
            "bin_end": 0.7,
            "count": 0
           },
           {
            "bin_start": 0.7,
            "bin_end": 0.8,
            "count": 0
           },
           {
            "bin_start": 0.8,
            "bin_end": 0.9,
            "count": 0
           },
           {
            "bin_start": 0.9,
            "bin_end": 1,
            "count": 0
           },
           {
            "bin_start": 1,
            "bin_end": 1.1,
            "count": 5
           },
           {
            "bin_start": 1.1,
            "bin_end": 1.2000000000000002,
            "count": 0
           },
           {
            "bin_start": 1.2000000000000002,
            "bin_end": 1.3,
            "count": 0
           },
           {
            "bin_start": 1.3,
            "bin_end": 1.4,
            "count": 0
           },
           {
            "bin_start": 1.4,
            "bin_end": 1.5,
            "count": 0
           }
          ]
         }
        },
        {
         "name": "day",
         "dtype": "int64",
         "stats": {
          "unique_count": 5,
          "nan_count": 0,
          "min": "167",
          "max": "441",
          "histogram": [
           {
            "bin_start": 167,
            "bin_end": 194.4,
            "count": 1
           },
           {
            "bin_start": 194.4,
            "bin_end": 221.8,
            "count": 1
           },
           {
            "bin_start": 221.8,
            "bin_end": 249.2,
            "count": 1
           },
           {
            "bin_start": 249.2,
            "bin_end": 276.6,
            "count": 0
           },
           {
            "bin_start": 276.6,
            "bin_end": 304,
            "count": 0
           },
           {
            "bin_start": 304,
            "bin_end": 331.4,
            "count": 0
           },
           {
            "bin_start": 331.4,
            "bin_end": 358.79999999999995,
            "count": 1
           },
           {
            "bin_start": 358.79999999999995,
            "bin_end": 386.2,
            "count": 0
           },
           {
            "bin_start": 386.2,
            "bin_end": 413.6,
            "count": 0
           },
           {
            "bin_start": 413.6,
            "bin_end": 441,
            "count": 1
           }
          ]
         }
        },
        {
         "name": "hours",
         "dtype": "int64",
         "stats": {
          "unique_count": 4,
          "nan_count": 0,
          "min": "9",
          "max": "18",
          "histogram": [
           {
            "bin_start": 9,
            "bin_end": 9.9,
            "count": 2
           },
           {
            "bin_start": 9.9,
            "bin_end": 10.8,
            "count": 0
           },
           {
            "bin_start": 10.8,
            "bin_end": 11.7,
            "count": 0
           },
           {
            "bin_start": 11.7,
            "bin_end": 12.6,
            "count": 0
           },
           {
            "bin_start": 12.6,
            "bin_end": 13.5,
            "count": 0
           },
           {
            "bin_start": 13.5,
            "bin_end": 14.4,
            "count": 0
           },
           {
            "bin_start": 14.4,
            "bin_end": 15.3,
            "count": 1
           },
           {
            "bin_start": 15.3,
            "bin_end": 16.2,
            "count": 1
           },
           {
            "bin_start": 16.2,
            "bin_end": 17.1,
            "count": 0
           },
           {
            "bin_start": 17.1,
            "bin_end": 18,
            "count": 1
           }
          ]
         }
        },
        {
         "name": "minute",
         "dtype": "int64",
         "stats": {
          "unique_count": 5,
          "nan_count": 0,
          "min": "31",
          "max": "54",
          "histogram": [
           {
            "bin_start": 31,
            "bin_end": 33.3,
            "count": 1
           },
           {
            "bin_start": 33.3,
            "bin_end": 35.6,
            "count": 1
           },
           {
            "bin_start": 35.6,
            "bin_end": 37.9,
            "count": 1
           },
           {
            "bin_start": 37.9,
            "bin_end": 40.2,
            "count": 0
           },
           {
            "bin_start": 40.2,
            "bin_end": 42.5,
            "count": 0
           },
           {
            "bin_start": 42.5,
            "bin_end": 44.8,
            "count": 0
           },
           {
            "bin_start": 44.8,
            "bin_end": 47.099999999999994,
            "count": 0
           },
           {
            "bin_start": 47.099999999999994,
            "bin_end": 49.4,
            "count": 0
           },
           {
            "bin_start": 49.4,
            "bin_end": 51.7,
            "count": 1
           },
           {
            "bin_start": 51.7,
            "bin_end": 54,
            "count": 1
           }
          ]
         }
        },
        {
         "name": "seconds",
         "dtype": "int64",
         "stats": {
          "unique_count": 5,
          "nan_count": 0,
          "min": "12",
          "max": "53",
          "histogram": [
           {
            "bin_start": 12,
            "bin_end": 16.1,
            "count": 1
           },
           {
            "bin_start": 16.1,
            "bin_end": 20.2,
            "count": 1
           },
           {
            "bin_start": 20.2,
            "bin_end": 24.299999999999997,
            "count": 0
           },
           {
            "bin_start": 24.299999999999997,
            "bin_end": 28.4,
            "count": 0
           },
           {
            "bin_start": 28.4,
            "bin_end": 32.5,
            "count": 0
           },
           {
            "bin_start": 32.5,
            "bin_end": 36.599999999999994,
            "count": 0
           },
           {
            "bin_start": 36.599999999999994,
            "bin_end": 40.699999999999996,
            "count": 1
           },
           {
            "bin_start": 40.699999999999996,
            "bin_end": 44.8,
            "count": 0
           },
           {
            "bin_start": 44.8,
            "bin_end": 48.9,
            "count": 0
           },
           {
            "bin_start": 48.9,
            "bin_end": 53,
            "count": 2
           }
          ]
         }
        },
        {
         "name": "weekday",
         "dtype": "int64",
         "stats": {
          "unique_count": 3,
          "nan_count": 0,
          "min": "0",
          "max": "6",
          "histogram": [
           {
            "bin_start": 0,
            "bin_end": 0.6,
            "count": 2
           },
           {
            "bin_start": 0.6,
            "bin_end": 1.2,
            "count": 0
           },
           {
            "bin_start": 1.2,
            "bin_end": 1.7999999999999998,
            "count": 0
           },
           {
            "bin_start": 1.7999999999999998,
            "bin_end": 2.4,
            "count": 0
           },
           {
            "bin_start": 2.4,
            "bin_end": 3,
            "count": 0
           },
           {
            "bin_start": 3,
            "bin_end": 3.5999999999999996,
            "count": 0
           },
           {
            "bin_start": 3.5999999999999996,
            "bin_end": 4.2,
            "count": 1
           },
           {
            "bin_start": 4.2,
            "bin_end": 4.8,
            "count": 0
           },
           {
            "bin_start": 4.8,
            "bin_end": 5.3999999999999995,
            "count": 0
           },
           {
            "bin_start": 5.3999999999999995,
            "bin_end": 6,
            "count": 2
           }
          ]
         }
        },
        {
         "name": "_deepnote_index_column",
         "dtype": "int64"
        }
       ],
       "rows": [
        {
         "client_id": 22899,
         "code": 6011,
         "type": 2110,
         "sum": -6737.75,
         "target": 1,
         "day": 231,
         "hours": 9,
         "minute": 31,
         "seconds": 53,
         "weekday": 0,
         "_deepnote_index_column": 0
        },
        {
         "client_id": 22899,
         "code": 6011,
         "type": 4010,
         "sum": -8759.07,
         "target": 1,
         "day": 349,
         "hours": 16,
         "minute": 34,
         "seconds": 52,
         "weekday": 6,
         "_deepnote_index_column": 1
        },
        {
         "client_id": 22899,
         "code": 6011,
         "type": 4010,
         "sum": -8759.07,
         "target": 1,
         "day": 441,
         "hours": 15,
         "minute": 36,
         "seconds": 37,
         "weekday": 0,
         "_deepnote_index_column": 2
        },
        {
         "client_id": 22899,
         "code": 4814,
         "type": 1030,
         "sum": -1122.96,
         "target": 1,
         "day": 167,
         "hours": 9,
         "minute": 50,
         "seconds": 12,
         "weekday": 6,
         "_deepnote_index_column": 3
        },
        {
         "client_id": 22899,
         "code": 5399,
         "type": 1110,
         "sum": -4626.59,
         "target": 1,
         "day": 221,
         "hours": 18,
         "minute": 54,
         "seconds": 19,
         "weekday": 4,
         "_deepnote_index_column": 4
        }
       ]
      },
      "text/plain": "   client_id  code  type      sum  target  day  hours  minute  seconds  \\\n0      22899  6011  2110 -6737.75       1  231      9      31       53   \n1      22899  6011  4010 -8759.07       1  349     16      34       52   \n2      22899  6011  4010 -8759.07       1  441     15      36       37   \n3      22899  4814  1030 -1122.96       1  167      9      50       12   \n4      22899  5399  1110 -4626.59       1  221     18      54       19   \n\n   weekday  \n0        0  \n1        6  \n2        0  \n3        6  \n4        4  ",
      "text/html": "<div>\n<style scoped>\n    .dataframe tbody tr th:only-of-type {\n        vertical-align: middle;\n    }\n\n    .dataframe tbody tr th {\n        vertical-align: top;\n    }\n\n    .dataframe thead th {\n        text-align: right;\n    }\n</style>\n<table border=\"1\" class=\"dataframe\">\n  <thead>\n    <tr style=\"text-align: right;\">\n      <th></th>\n      <th>client_id</th>\n      <th>code</th>\n      <th>type</th>\n      <th>sum</th>\n      <th>target</th>\n      <th>day</th>\n      <th>hours</th>\n      <th>minute</th>\n      <th>seconds</th>\n      <th>weekday</th>\n    </tr>\n  </thead>\n  <tbody>\n    <tr>\n      <th>0</th>\n      <td>22899</td>\n      <td>6011</td>\n      <td>2110</td>\n      <td>-6737.75</td>\n      <td>1</td>\n      <td>231</td>\n      <td>9</td>\n      <td>31</td>\n      <td>53</td>\n      <td>0</td>\n    </tr>\n    <tr>\n      <th>1</th>\n      <td>22899</td>\n      <td>6011</td>\n      <td>4010</td>\n      <td>-8759.07</td>\n      <td>1</td>\n      <td>349</td>\n      <td>16</td>\n      <td>34</td>\n      <td>52</td>\n      <td>6</td>\n    </tr>\n    <tr>\n      <th>2</th>\n      <td>22899</td>\n      <td>6011</td>\n      <td>4010</td>\n      <td>-8759.07</td>\n      <td>1</td>\n      <td>441</td>\n      <td>15</td>\n      <td>36</td>\n      <td>37</td>\n      <td>0</td>\n    </tr>\n    <tr>\n      <th>3</th>\n      <td>22899</td>\n      <td>4814</td>\n      <td>1030</td>\n      <td>-1122.96</td>\n      <td>1</td>\n      <td>167</td>\n      <td>9</td>\n      <td>50</td>\n      <td>12</td>\n      <td>6</td>\n    </tr>\n    <tr>\n      <th>4</th>\n      <td>22899</td>\n      <td>5399</td>\n      <td>1110</td>\n      <td>-4626.59</td>\n      <td>1</td>\n      <td>221</td>\n      <td>18</td>\n      <td>54</td>\n      <td>19</td>\n      <td>4</td>\n    </tr>\n  </tbody>\n</table>\n</div>"
     },
     "metadata": {}
    }
   ]
  },
  {
   "cell_type": "code",
   "source": "X = data.drop(columns=[\"hours\",\"minute\",\"seconds\",\"day\",\"target\",\"client_id\"])\nX.head(5)",
   "metadata": {
    "cell_id": "ab8f3fe3-54c3-4d94-b46b-df7d2da3b49d",
    "tags": [],
    "deepnote_cell_height": 84,
    "deepnote_to_be_reexecuted": false,
    "source_hash": "6fe4485c",
    "execution_start": 1645114071205,
    "execution_millis": 123,
    "deepnote_cell_type": "code"
   },
   "outputs": [
    {
     "output_type": "execute_result",
     "execution_count": 68,
     "data": {
      "application/vnd.deepnote.dataframe.v3+json": {
       "column_count": 4,
       "row_count": 5,
       "columns": [
        {
         "name": "code",
         "dtype": "int64",
         "stats": {
          "unique_count": 3,
          "nan_count": 0,
          "min": "4814",
          "max": "6011",
          "histogram": [
           {
            "bin_start": 4814,
            "bin_end": 4933.7,
            "count": 1
           },
           {
            "bin_start": 4933.7,
            "bin_end": 5053.4,
            "count": 0
           },
           {
            "bin_start": 5053.4,
            "bin_end": 5173.1,
            "count": 0
           },
           {
            "bin_start": 5173.1,
            "bin_end": 5292.8,
            "count": 0
           },
           {
            "bin_start": 5292.8,
            "bin_end": 5412.5,
            "count": 1
           },
           {
            "bin_start": 5412.5,
            "bin_end": 5532.2,
            "count": 0
           },
           {
            "bin_start": 5532.2,
            "bin_end": 5651.9,
            "count": 0
           },
           {
            "bin_start": 5651.9,
            "bin_end": 5771.6,
            "count": 0
           },
           {
            "bin_start": 5771.6,
            "bin_end": 5891.3,
            "count": 0
           },
           {
            "bin_start": 5891.3,
            "bin_end": 6011,
            "count": 3
           }
          ]
         }
        },
        {
         "name": "type",
         "dtype": "int64",
         "stats": {
          "unique_count": 4,
          "nan_count": 0,
          "min": "1030",
          "max": "4010",
          "histogram": [
           {
            "bin_start": 1030,
            "bin_end": 1328,
            "count": 2
           },
           {
            "bin_start": 1328,
            "bin_end": 1626,
            "count": 0
           },
           {
            "bin_start": 1626,
            "bin_end": 1924,
            "count": 0
           },
           {
            "bin_start": 1924,
            "bin_end": 2222,
            "count": 1
           },
           {
            "bin_start": 2222,
            "bin_end": 2520,
            "count": 0
           },
           {
            "bin_start": 2520,
            "bin_end": 2818,
            "count": 0
           },
           {
            "bin_start": 2818,
            "bin_end": 3116,
            "count": 0
           },
           {
            "bin_start": 3116,
            "bin_end": 3414,
            "count": 0
           },
           {
            "bin_start": 3414,
            "bin_end": 3712,
            "count": 0
           },
           {
            "bin_start": 3712,
            "bin_end": 4010,
            "count": 2
           }
          ]
         }
        },
        {
         "name": "sum",
         "dtype": "float64",
         "stats": {
          "unique_count": 4,
          "nan_count": 0,
          "min": "-8759.07",
          "max": "-1122.96",
          "histogram": [
           {
            "bin_start": -8759.07,
            "bin_end": -7995.459,
            "count": 2
           },
           {
            "bin_start": -7995.459,
            "bin_end": -7231.848,
            "count": 0
           },
           {
            "bin_start": -7231.848,
            "bin_end": -6468.236999999999,
            "count": 1
           },
           {
            "bin_start": -6468.236999999999,
            "bin_end": -5704.626,
            "count": 0
           },
           {
            "bin_start": -5704.626,
            "bin_end": -4941.014999999999,
            "count": 0
           },
           {
            "bin_start": -4941.014999999999,
            "bin_end": -4177.4039999999995,
            "count": 1
           },
           {
            "bin_start": -4177.4039999999995,
            "bin_end": -3413.7929999999997,
            "count": 0
           },
           {
            "bin_start": -3413.7929999999997,
            "bin_end": -2650.182,
            "count": 0
           },
           {
            "bin_start": -2650.182,
            "bin_end": -1886.571,
            "count": 0
           },
           {
            "bin_start": -1886.571,
            "bin_end": -1122.96,
            "count": 1
           }
          ]
         }
        },
        {
         "name": "weekday",
         "dtype": "int64",
         "stats": {
          "unique_count": 3,
          "nan_count": 0,
          "min": "0",
          "max": "6",
          "histogram": [
           {
            "bin_start": 0,
            "bin_end": 0.6,
            "count": 2
           },
           {
            "bin_start": 0.6,
            "bin_end": 1.2,
            "count": 0
           },
           {
            "bin_start": 1.2,
            "bin_end": 1.7999999999999998,
            "count": 0
           },
           {
            "bin_start": 1.7999999999999998,
            "bin_end": 2.4,
            "count": 0
           },
           {
            "bin_start": 2.4,
            "bin_end": 3,
            "count": 0
           },
           {
            "bin_start": 3,
            "bin_end": 3.5999999999999996,
            "count": 0
           },
           {
            "bin_start": 3.5999999999999996,
            "bin_end": 4.2,
            "count": 1
           },
           {
            "bin_start": 4.2,
            "bin_end": 4.8,
            "count": 0
           },
           {
            "bin_start": 4.8,
            "bin_end": 5.3999999999999995,
            "count": 0
           },
           {
            "bin_start": 5.3999999999999995,
            "bin_end": 6,
            "count": 2
           }
          ]
         }
        },
        {
         "name": "_deepnote_index_column",
         "dtype": "int64"
        }
       ],
       "rows": [
        {
         "code": 6011,
         "type": 2110,
         "sum": -6737.75,
         "weekday": 0,
         "_deepnote_index_column": 0
        },
        {
         "code": 6011,
         "type": 4010,
         "sum": -8759.07,
         "weekday": 6,
         "_deepnote_index_column": 1
        },
        {
         "code": 6011,
         "type": 4010,
         "sum": -8759.07,
         "weekday": 0,
         "_deepnote_index_column": 2
        },
        {
         "code": 4814,
         "type": 1030,
         "sum": -1122.96,
         "weekday": 6,
         "_deepnote_index_column": 3
        },
        {
         "code": 5399,
         "type": 1110,
         "sum": -4626.59,
         "weekday": 4,
         "_deepnote_index_column": 4
        }
       ]
      },
      "text/plain": "   code  type      sum  weekday\n0  6011  2110 -6737.75        0\n1  6011  4010 -8759.07        6\n2  6011  4010 -8759.07        0\n3  4814  1030 -1122.96        6\n4  5399  1110 -4626.59        4",
      "text/html": "<div>\n<style scoped>\n    .dataframe tbody tr th:only-of-type {\n        vertical-align: middle;\n    }\n\n    .dataframe tbody tr th {\n        vertical-align: top;\n    }\n\n    .dataframe thead th {\n        text-align: right;\n    }\n</style>\n<table border=\"1\" class=\"dataframe\">\n  <thead>\n    <tr style=\"text-align: right;\">\n      <th></th>\n      <th>code</th>\n      <th>type</th>\n      <th>sum</th>\n      <th>weekday</th>\n    </tr>\n  </thead>\n  <tbody>\n    <tr>\n      <th>0</th>\n      <td>6011</td>\n      <td>2110</td>\n      <td>-6737.75</td>\n      <td>0</td>\n    </tr>\n    <tr>\n      <th>1</th>\n      <td>6011</td>\n      <td>4010</td>\n      <td>-8759.07</td>\n      <td>6</td>\n    </tr>\n    <tr>\n      <th>2</th>\n      <td>6011</td>\n      <td>4010</td>\n      <td>-8759.07</td>\n      <td>0</td>\n    </tr>\n    <tr>\n      <th>3</th>\n      <td>4814</td>\n      <td>1030</td>\n      <td>-1122.96</td>\n      <td>6</td>\n    </tr>\n    <tr>\n      <th>4</th>\n      <td>5399</td>\n      <td>1110</td>\n      <td>-4626.59</td>\n      <td>4</td>\n    </tr>\n  </tbody>\n</table>\n</div>"
     },
     "metadata": {}
    }
   ],
   "execution_count": 68
  },
  {
   "cell_type": "code",
   "source": "# finding a k-means when 2 clusters\nfigure, axes = plt.subplots(1, 2)\nfigure.set_size_inches(18, 10)\nkmeans = KMeans(n_clusters = 2, random_state = 0).fit(X)\nsns.scatterplot(x=X['code'], y=X['sum'], hue=kmeans.labels_, ax=axes[0]).set(title='finding the K-Means')\nsns.scatterplot(x=X['weekday'], y=X['sum'], hue=kmeans.labels_, ax=axes[1]).set(title='finding the K-Means')",
   "metadata": {
    "cell_id": "7d42c6c4-9a2c-41fa-acdd-16aceae625ba",
    "tags": [],
    "deepnote_cell_height": 805.75,
    "deepnote_to_be_reexecuted": false,
    "source_hash": "63a7ef11",
    "execution_start": 1645115978820,
    "execution_millis": 21269,
    "deepnote_output_heights": [
     21.1875,
     530.5625
    ],
    "deepnote_cell_type": "code"
   },
   "outputs": [
    {
     "output_type": "execute_result",
     "execution_count": 87,
     "data": {
      "text/plain": "[Text(0.5, 1.0, 'finding the K-Means')]"
     },
     "metadata": {}
    },
    {
     "data": {
      "text/plain": "<Figure size 1296x720 with 2 Axes>",
      "image/png": "[encoded data removed]"
     },
     "metadata": {
      "needs_background": "light",
      "image/png": {
       "width": 1054,
       "height": 604
      }
     },
     "output_type": "display_data"
    }
   ],
   "execution_count": 87
  },
  {
   "cell_type": "code",
   "source": "from sklearn.cluster import AgglomerativeClustering\n\nX_head = X.head(2500)\ncluster = AgglomerativeClustering().fit(X_head)\nfigure, axes = plt.subplots(1, 2)\nfigure.set_size_inches(18, 10)\n\nsns.scatterplot(x=X_head['code'], y=X_head['sum'], hue=cluster.labels_, ax=axes[0]).set(title='Hierarchical clustering')\nsns.scatterplot(x=X_head['code'], y=X_head['type'], hue=cluster.labels_, ax=axes[1]).set(title='Hierarchical clustering')",
   "metadata": {
    "cell_id": "2450343d-9234-4761-aca3-0c051063f02f",
    "tags": [],
    "deepnote_cell_height": 859.75,
    "deepnote_to_be_reexecuted": false,
    "source_hash": "bda6f905",
    "execution_start": 1645116000051,
    "execution_millis": 2405,
    "deepnote_output_heights": [
     21.1875,
     530.5625
    ],
    "deepnote_cell_type": "code"
   },
   "outputs": [
    {
     "output_type": "execute_result",
     "execution_count": 88,
     "data": {
      "text/plain": "[Text(0.5, 1.0, 'Hierarchical clustering')]"
     },
     "metadata": {}
    },
    {
     "data": {
      "text/plain": "<Figure size 1296x720 with 2 Axes>",
      "image/png": "[encoded data removed]"
     },
     "metadata": {
      "needs_background": "light",
      "image/png": {
       "width": 1054,
       "height": 604
      }
     },
     "output_type": "display_data"
    }
   ],
   "execution_count": 88
  },
  {
   "cell_type": "code",
   "source": "# finding a k-means when 3 clusters\nfigure, axes = plt.subplots(1, 2)\nfigure.set_size_inches(18, 10)\nkmeans = KMeans(n_clusters = 3, random_state = 0).fit(X)\nsns.scatterplot(x=X['code'], y=X['sum'], hue=kmeans.labels_, ax=axes[0]).set(title='finding the K-Means')\nsns.scatterplot(x=X['weekday'], y=X['sum'], hue=kmeans.labels_, ax=axes[1]).set(title='finding the K-Means')",
   "metadata": {
    "cell_id": "ecf77f93-7b7a-4c34-a302-da063129b59b",
    "tags": [],
    "deepnote_cell_height": 805.75,
    "deepnote_to_be_reexecuted": false,
    "source_hash": "f8f73a5",
    "execution_start": 1645116078222,
    "deepnote_output_heights": [
     21.1875,
     530.5625
    ],
    "execution_millis": 22158,
    "deepnote_cell_type": "code"
   },
   "outputs": [
    {
     "output_type": "execute_result",
     "execution_count": 89,
     "data": {
      "text/plain": "[Text(0.5, 1.0, 'finding the K-Means')]"
     },
     "metadata": {}
    },
    {
     "data": {
      "text/plain": "<Figure size 1296x720 with 2 Axes>",
      "image/png": "[encoded data removed]"
     },
     "metadata": {
      "needs_background": "light",
      "image/png": {
       "width": 1054,
       "height": 604
      }
     },
     "output_type": "display_data"
    }
   ],
   "execution_count": 89
  },
  {
   "cell_type": "code",
   "source": "from scipy.cluster.hierarchy import dendrogram, linkage",
   "metadata": {
    "cell_id": "aa3524ca-02e0-4e9a-a53a-831bcab217ed",
    "tags": [],
    "deepnote_to_be_reexecuted": false,
    "source_hash": "6391311f",
    "execution_start": 1645116476133,
    "execution_millis": 2,
    "deepnote_cell_height": 66,
    "deepnote_cell_type": "code"
   },
   "outputs": [],
   "execution_count": 99
  },
  {
   "cell_type": "code",
   "source": "linked = linkage(X_head.head(15))\n\nlabelList = range(1, 16)\n\nplt.figure(figsize=(10, 7))\nfigure.suptitle('Dendogramma')\n\ndendrogram(linked,\n            orientation='top',\n            labels=labelList,\n            distance_sort='descending',\n            show_leaf_counts=True)\nplt.show()",
   "metadata": {
    "cell_id": "f7bd8a38-f85b-4e90-9cd5-802c04632c1f",
    "tags": [],
    "deepnote_to_be_reexecuted": false,
    "source_hash": "e816acae",
    "execution_start": 1645116823940,
    "execution_millis": 337,
    "deepnote_output_heights": [
     416,
     21.1875
    ],
    "deepnote_cell_height": 763.1875,
    "deepnote_cell_type": "code"
   },
   "outputs": [
    {
     "data": {
      "text/plain": "<Figure size 720x504 with 1 Axes>",
      "image/png": "[encoded data removed]"
     },
     "metadata": {
      "needs_background": "light",
      "image/png": {
       "width": 610,
       "height": 414
      }
     },
     "output_type": "display_data"
    }
   ],
   "execution_count": 105
  },
  {
   "cell_type": "markdown",
   "source": "<a style='text-decoration:none;line-height:16px;display:flex;color:#5B5B62;padding:10px;justify-content:end;' href='https://deepnote.com?utm_source=created-in-deepnote-cell&projectId=ea0319bf-0aef-469e-b95f-2cb83f0ca96f' target=\"_blank\">\n<img alt='Created in deepnote.com' style='display:inline;max-height:16px;margin:0px;margin-right:7.5px;' src='data:image/svg+xml;base64,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' > </img>\nCreated in <span style='font-weight:600;margin-left:4px;'>Deepnote</span></a>",
   "metadata": {
    "tags": [],
    "created_in_deepnote_cell": true,
    "deepnote_cell_type": "markdown"
   }
  }
 ],
 "nbformat": 4,
 "nbformat_minor": 5,
 "metadata": {
  "kernelspec": {
   "display_name": "Python 3",
   "language": "python",
   "name": "python3"
  },
  "language_info": {
   "codemirror_mode": {
    "name": "ipython",
    "version": 3
   },
   "file_extension": ".py",
   "mimetype": "text/x-python",
   "name": "python",
   "nbconvert_exporter": "python",
   "pygments_lexer": "ipython3",
   "version": "3.8.8"
  },
  "deepnote_notebook_id": "527a4b33-88d1-4a2f-b974-fbfdb77b3c1d",
  "deepnote": {},
  "deepnote_execution_queue": []
 }
}
